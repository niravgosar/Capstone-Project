{
 "cells": [
  {
   "cell_type": "code",
   "execution_count": 1,
   "id": "b0c49017",
   "metadata": {},
   "outputs": [
    {
     "data": {
      "text/html": [
       "        <script type=\"text/javascript\">\n",
       "        window.PlotlyConfig = {MathJaxConfig: 'local'};\n",
       "        if (window.MathJax && window.MathJax.Hub && window.MathJax.Hub.Config) {window.MathJax.Hub.Config({SVG: {font: \"STIX-Web\"}});}\n",
       "        if (typeof require !== 'undefined') {\n",
       "        require.undef(\"plotly\");\n",
       "        requirejs.config({\n",
       "            paths: {\n",
       "                'plotly': ['https://cdn.plot.ly/plotly-2.12.1.min']\n",
       "            }\n",
       "        });\n",
       "        require(['plotly'], function(Plotly) {\n",
       "            window._Plotly = Plotly;\n",
       "        });\n",
       "        }\n",
       "        </script>\n",
       "        "
      ]
     },
     "metadata": {},
     "output_type": "display_data"
    }
   ],
   "source": [
    "import pandas as pd\n",
    "import matplotlib\n",
    "import matplotlib.pyplot as plt\n",
    "import numpy as np\n",
    "import seaborn as sns\n",
    "%matplotlib inline\n",
    "\n",
    "import plotly.offline as py\n",
    "import plotly.graph_objs as go\n",
    "from plotly.offline import init_notebook_mode\n",
    "init_notebook_mode(connected=True)\n",
    "from plotly import tools\n",
    "\n",
    "import warnings\n",
    "warnings.filterwarnings(\"ignore\")\n",
    "warnings.filterwarnings(\"ignore\",category=DeprecationWarning)"
   ]
  },
  {
   "cell_type": "code",
   "execution_count": 2,
   "id": "514f1314",
   "metadata": {},
   "outputs": [],
   "source": [
    "from selenium import webdriver\n",
    "import pandas as pd\n",
    "import numpy as np\n",
    "import seaborn as sns\n",
    "import matplotlib.pyplot as plt\n",
    "import warnings\n",
    "warnings.filterwarnings('ignore')\n",
    "import regex as re"
   ]
  },
  {
   "cell_type": "code",
   "execution_count": 3,
   "id": "75df2d86",
   "metadata": {},
   "outputs": [
    {
     "data": {
      "text/html": [
       "<div>\n",
       "<style scoped>\n",
       "    .dataframe tbody tr th:only-of-type {\n",
       "        vertical-align: middle;\n",
       "    }\n",
       "\n",
       "    .dataframe tbody tr th {\n",
       "        vertical-align: top;\n",
       "    }\n",
       "\n",
       "    .dataframe thead th {\n",
       "        text-align: right;\n",
       "    }\n",
       "</style>\n",
       "<table border=\"1\" class=\"dataframe\">\n",
       "  <thead>\n",
       "    <tr style=\"text-align: right;\">\n",
       "      <th></th>\n",
       "      <th>Unnamed: 0</th>\n",
       "      <th>Name</th>\n",
       "      <th>No. of colors</th>\n",
       "      <th>Category</th>\n",
       "      <th>Price</th>\n",
       "    </tr>\n",
       "  </thead>\n",
       "  <tbody>\n",
       "    <tr>\n",
       "      <th>0</th>\n",
       "      <td>0.0</td>\n",
       "      <td>Bright Grey Boots for Women</td>\n",
       "      <td>4</td>\n",
       "      <td>Women</td>\n",
       "      <td>5995</td>\n",
       "    </tr>\n",
       "    <tr>\n",
       "      <th>1</th>\n",
       "      <td>1.0</td>\n",
       "      <td>Brown Boot for Women</td>\n",
       "      <td>3</td>\n",
       "      <td>Women</td>\n",
       "      <td>5495</td>\n",
       "    </tr>\n",
       "    <tr>\n",
       "      <th>2</th>\n",
       "      <td>2.0</td>\n",
       "      <td>DROYAL BLUE boots for women</td>\n",
       "      <td>3</td>\n",
       "      <td>Women</td>\n",
       "      <td>5495</td>\n",
       "    </tr>\n",
       "    <tr>\n",
       "      <th>3</th>\n",
       "      <td>3.0</td>\n",
       "      <td>Beige boot for men</td>\n",
       "      <td>2</td>\n",
       "      <td>Women</td>\n",
       "      <td>6995</td>\n",
       "    </tr>\n",
       "    <tr>\n",
       "      <th>4</th>\n",
       "      <td>4.0</td>\n",
       "      <td>Woodland Rusty red boots for women</td>\n",
       "      <td>3</td>\n",
       "      <td>Women</td>\n",
       "      <td>5495</td>\n",
       "    </tr>\n",
       "    <tr>\n",
       "      <th>...</th>\n",
       "      <td>...</td>\n",
       "      <td>...</td>\n",
       "      <td>...</td>\n",
       "      <td>...</td>\n",
       "      <td>...</td>\n",
       "    </tr>\n",
       "    <tr>\n",
       "      <th>5643</th>\n",
       "      <td>NaN</td>\n",
       "      <td>Men's Bugaboot™ Celsius Plus Boot</td>\n",
       "      <td>2</td>\n",
       "      <td>Women</td>\n",
       "      <td>$37.50</td>\n",
       "    </tr>\n",
       "    <tr>\n",
       "      <th>5644</th>\n",
       "      <td>NaN</td>\n",
       "      <td>Men's Plateau™ Waterproof Shoe</td>\n",
       "      <td>3</td>\n",
       "      <td>Women</td>\n",
       "      <td>$84.00</td>\n",
       "    </tr>\n",
       "    <tr>\n",
       "      <th>5645</th>\n",
       "      <td>NaN</td>\n",
       "      <td>Men's Facet™ Sierra OutDry™ Boot</td>\n",
       "      <td>2</td>\n",
       "      <td>Women</td>\n",
       "      <td>$98.00</td>\n",
       "    </tr>\n",
       "    <tr>\n",
       "      <th>5646</th>\n",
       "      <td>NaN</td>\n",
       "      <td>Men's Trailstorm™ Peak Mid Shoe</td>\n",
       "      <td>2</td>\n",
       "      <td>Women</td>\n",
       "      <td>$60.00</td>\n",
       "    </tr>\n",
       "    <tr>\n",
       "      <th>5647</th>\n",
       "      <td>NaN</td>\n",
       "      <td>Men's Crestwood™ Hiking Shoe – Wide</td>\n",
       "      <td>3</td>\n",
       "      <td>Women</td>\n",
       "      <td>$97.50</td>\n",
       "    </tr>\n",
       "  </tbody>\n",
       "</table>\n",
       "<p>5648 rows × 5 columns</p>\n",
       "</div>"
      ],
      "text/plain": [
       "      Unnamed: 0                                 Name No. of colors Category  \\\n",
       "0            0.0          Bright Grey Boots for Women             4    Women   \n",
       "1            1.0                 Brown Boot for Women             3    Women   \n",
       "2            2.0          DROYAL BLUE boots for women             3    Women   \n",
       "3            3.0                   Beige boot for men             2    Women   \n",
       "4            4.0   Woodland Rusty red boots for women             3    Women   \n",
       "...          ...                                  ...           ...      ...   \n",
       "5643         NaN    Men's Bugaboot™ Celsius Plus Boot             2    Women   \n",
       "5644         NaN       Men's Plateau™ Waterproof Shoe             3    Women   \n",
       "5645         NaN     Men's Facet™ Sierra OutDry™ Boot             2    Women   \n",
       "5646         NaN      Men's Trailstorm™ Peak Mid Shoe             2    Women   \n",
       "5647         NaN  Men's Crestwood™ Hiking Shoe – Wide             3    Women   \n",
       "\n",
       "       Price  \n",
       "0       5995  \n",
       "1       5495  \n",
       "2       5495  \n",
       "3       6995  \n",
       "4       5495  \n",
       "...      ...  \n",
       "5643  $37.50  \n",
       "5644  $84.00  \n",
       "5645  $98.00  \n",
       "5646  $60.00  \n",
       "5647  $97.50  \n",
       "\n",
       "[5648 rows x 5 columns]"
      ]
     },
     "execution_count": 3,
     "metadata": {},
     "output_type": "execute_result"
    }
   ],
   "source": [
    "df1=pd.read_csv('Capstone_CSV1.csv')\n",
    "df1=df1.drop(['Unnamed: 0.2','Unnamed: 0.1'],axis=1)\n",
    "df1"
   ]
  },
  {
   "cell_type": "code",
   "execution_count": 4,
   "id": "bb005625",
   "metadata": {},
   "outputs": [
    {
     "data": {
      "text/html": [
       "<div>\n",
       "<style scoped>\n",
       "    .dataframe tbody tr th:only-of-type {\n",
       "        vertical-align: middle;\n",
       "    }\n",
       "\n",
       "    .dataframe tbody tr th {\n",
       "        vertical-align: top;\n",
       "    }\n",
       "\n",
       "    .dataframe thead th {\n",
       "        text-align: right;\n",
       "    }\n",
       "</style>\n",
       "<table border=\"1\" class=\"dataframe\">\n",
       "  <thead>\n",
       "    <tr style=\"text-align: right;\">\n",
       "      <th></th>\n",
       "      <th>Unnamed: 0</th>\n",
       "      <th>Colour 1</th>\n",
       "      <th>Colour 2</th>\n",
       "      <th>Colour 3</th>\n",
       "      <th>Colour 4</th>\n",
       "      <th>Colour 5</th>\n",
       "      <th>Product Code</th>\n",
       "      <th>No. of sizes</th>\n",
       "    </tr>\n",
       "  </thead>\n",
       "  <tbody>\n",
       "    <tr>\n",
       "      <th>0</th>\n",
       "      <td>0</td>\n",
       "      <td>BRIGHT GREY</td>\n",
       "      <td>SANDY BEIGE</td>\n",
       "      <td>LSNAYPE</td>\n",
       "      <td>CANVAS GREEN</td>\n",
       "      <td>-</td>\n",
       "      <td>FLC0AX037821S</td>\n",
       "      <td>7</td>\n",
       "    </tr>\n",
       "    <tr>\n",
       "      <th>1</th>\n",
       "      <td>1</td>\n",
       "      <td>BROWN</td>\n",
       "      <td>LGREY</td>\n",
       "      <td>KHAKI</td>\n",
       "      <td>-</td>\n",
       "      <td>-</td>\n",
       "      <td>FLC015044231A</td>\n",
       "      <td>7</td>\n",
       "    </tr>\n",
       "    <tr>\n",
       "      <th>2</th>\n",
       "      <td>2</td>\n",
       "      <td>DROYAL BLUE</td>\n",
       "      <td>OLIVE GREEN</td>\n",
       "      <td>KHAKI</td>\n",
       "      <td>-</td>\n",
       "      <td>-</td>\n",
       "      <td>FLC0H9033561A</td>\n",
       "      <td>7</td>\n",
       "    </tr>\n",
       "    <tr>\n",
       "      <th>3</th>\n",
       "      <td>3</td>\n",
       "      <td>BEIGE</td>\n",
       "      <td>CAMEL</td>\n",
       "      <td>-</td>\n",
       "      <td>-</td>\n",
       "      <td>-</td>\n",
       "      <td>FLC0510AR852A</td>\n",
       "      <td>9</td>\n",
       "    </tr>\n",
       "    <tr>\n",
       "      <th>4</th>\n",
       "      <td>4</td>\n",
       "      <td>RUSTY RED</td>\n",
       "      <td>DNAVY</td>\n",
       "      <td>SNAYPE</td>\n",
       "      <td>-</td>\n",
       "      <td>-</td>\n",
       "      <td>FLC015022491A</td>\n",
       "      <td>7</td>\n",
       "    </tr>\n",
       "    <tr>\n",
       "      <th>...</th>\n",
       "      <td>...</td>\n",
       "      <td>...</td>\n",
       "      <td>...</td>\n",
       "      <td>...</td>\n",
       "      <td>...</td>\n",
       "      <td>...</td>\n",
       "      <td>...</td>\n",
       "      <td>...</td>\n",
       "    </tr>\n",
       "    <tr>\n",
       "      <th>5643</th>\n",
       "      <td>137</td>\n",
       "      <td>BROWN</td>\n",
       "      <td>-</td>\n",
       "      <td>-</td>\n",
       "      <td>-</td>\n",
       "      <td>-</td>\n",
       "      <td>FGC018146782A</td>\n",
       "      <td>7</td>\n",
       "    </tr>\n",
       "    <tr>\n",
       "      <th>5644</th>\n",
       "      <td>138</td>\n",
       "      <td>DBROWN</td>\n",
       "      <td>-</td>\n",
       "      <td>-</td>\n",
       "      <td>-</td>\n",
       "      <td>-</td>\n",
       "      <td>FGC0150S6852A</td>\n",
       "      <td>7</td>\n",
       "    </tr>\n",
       "    <tr>\n",
       "      <th>5645</th>\n",
       "      <td>139</td>\n",
       "      <td>KHAKI</td>\n",
       "      <td>-</td>\n",
       "      <td>-</td>\n",
       "      <td>-</td>\n",
       "      <td>-</td>\n",
       "      <td>FGC0L5019811A</td>\n",
       "      <td>7</td>\n",
       "    </tr>\n",
       "    <tr>\n",
       "      <th>5646</th>\n",
       "      <td>140</td>\n",
       "      <td>BROWN</td>\n",
       "      <td>-</td>\n",
       "      <td>-</td>\n",
       "      <td>-</td>\n",
       "      <td>-</td>\n",
       "      <td>FGC0150S6872A</td>\n",
       "      <td>7</td>\n",
       "    </tr>\n",
       "    <tr>\n",
       "      <th>5647</th>\n",
       "      <td>141</td>\n",
       "      <td>CAMEL</td>\n",
       "      <td>KHAKI</td>\n",
       "      <td>-</td>\n",
       "      <td>-</td>\n",
       "      <td>-</td>\n",
       "      <td>FGC0H9027811A</td>\n",
       "      <td>7</td>\n",
       "    </tr>\n",
       "  </tbody>\n",
       "</table>\n",
       "<p>5648 rows × 8 columns</p>\n",
       "</div>"
      ],
      "text/plain": [
       "      Unnamed: 0     Colour 1     Colour 2 Colour 3      Colour 4 Colour 5  \\\n",
       "0              0  BRIGHT GREY  SANDY BEIGE  LSNAYPE  CANVAS GREEN        -   \n",
       "1              1        BROWN        LGREY    KHAKI             -        -   \n",
       "2              2  DROYAL BLUE  OLIVE GREEN    KHAKI             -        -   \n",
       "3              3        BEIGE        CAMEL        -             -        -   \n",
       "4              4    RUSTY RED        DNAVY   SNAYPE             -        -   \n",
       "...          ...          ...          ...      ...           ...      ...   \n",
       "5643         137        BROWN            -        -             -        -   \n",
       "5644         138       DBROWN            -        -             -        -   \n",
       "5645         139        KHAKI            -        -             -        -   \n",
       "5646         140        BROWN            -        -             -        -   \n",
       "5647         141        CAMEL        KHAKI        -             -        -   \n",
       "\n",
       "       Product Code No. of sizes  \n",
       "0     FLC0AX037821S            7  \n",
       "1     FLC015044231A            7  \n",
       "2     FLC0H9033561A            7  \n",
       "3     FLC0510AR852A            9  \n",
       "4     FLC015022491A            7  \n",
       "...             ...          ...  \n",
       "5643  FGC018146782A            7  \n",
       "5644  FGC0150S6852A            7  \n",
       "5645  FGC0L5019811A            7  \n",
       "5646  FGC0150S6872A            7  \n",
       "5647  FGC0H9027811A            7  \n",
       "\n",
       "[5648 rows x 8 columns]"
      ]
     },
     "execution_count": 4,
     "metadata": {},
     "output_type": "execute_result"
    }
   ],
   "source": [
    "df2=pd.read_csv('Capstone_CSV2.csv')\n",
    "df2=df2.drop(['Unnamed: 0.2','Unnamed: 0.1'],axis=1)\n",
    "df2"
   ]
  },
  {
   "cell_type": "code",
   "execution_count": 5,
   "id": "6a3cea61",
   "metadata": {},
   "outputs": [
    {
     "data": {
      "text/html": [
       "<div>\n",
       "<style scoped>\n",
       "    .dataframe tbody tr th:only-of-type {\n",
       "        vertical-align: middle;\n",
       "    }\n",
       "\n",
       "    .dataframe tbody tr th {\n",
       "        vertical-align: top;\n",
       "    }\n",
       "\n",
       "    .dataframe thead th {\n",
       "        text-align: right;\n",
       "    }\n",
       "</style>\n",
       "<table border=\"1\" class=\"dataframe\">\n",
       "  <thead>\n",
       "    <tr style=\"text-align: right;\">\n",
       "      <th></th>\n",
       "      <th>Unnamed: 0</th>\n",
       "      <th>Reviews</th>\n",
       "      <th>Size</th>\n",
       "      <th>comfort</th>\n",
       "      <th>durability /quality/performance(quantification)</th>\n",
       "      <th>Star Rating</th>\n",
       "    </tr>\n",
       "  </thead>\n",
       "  <tbody>\n",
       "    <tr>\n",
       "      <th>0</th>\n",
       "      <td>0.0</td>\n",
       "      <td>-</td>\n",
       "      <td>35</td>\n",
       "      <td>-</td>\n",
       "      <td>-</td>\n",
       "      <td>-</td>\n",
       "    </tr>\n",
       "    <tr>\n",
       "      <th>1</th>\n",
       "      <td>1.0</td>\n",
       "      <td>-</td>\n",
       "      <td>35</td>\n",
       "      <td>-</td>\n",
       "      <td>-</td>\n",
       "      <td>-</td>\n",
       "    </tr>\n",
       "    <tr>\n",
       "      <th>2</th>\n",
       "      <td>2.0</td>\n",
       "      <td>-</td>\n",
       "      <td>35</td>\n",
       "      <td>-</td>\n",
       "      <td>-</td>\n",
       "      <td>-</td>\n",
       "    </tr>\n",
       "    <tr>\n",
       "      <th>3</th>\n",
       "      <td>3.0</td>\n",
       "      <td>-</td>\n",
       "      <td>35</td>\n",
       "      <td>-</td>\n",
       "      <td>-</td>\n",
       "      <td>-</td>\n",
       "    </tr>\n",
       "    <tr>\n",
       "      <th>4</th>\n",
       "      <td>4.0</td>\n",
       "      <td>-</td>\n",
       "      <td>35</td>\n",
       "      <td>-</td>\n",
       "      <td>-</td>\n",
       "      <td>-</td>\n",
       "    </tr>\n",
       "    <tr>\n",
       "      <th>...</th>\n",
       "      <td>...</td>\n",
       "      <td>...</td>\n",
       "      <td>...</td>\n",
       "      <td>...</td>\n",
       "      <td>...</td>\n",
       "      <td>...</td>\n",
       "    </tr>\n",
       "    <tr>\n",
       "      <th>7691</th>\n",
       "      <td>66.0</td>\n",
       "      <td>142</td>\n",
       "      <td>-</td>\n",
       "      <td>-</td>\n",
       "      <td>-</td>\n",
       "      <td>4.683</td>\n",
       "    </tr>\n",
       "    <tr>\n",
       "      <th>7692</th>\n",
       "      <td>67.0</td>\n",
       "      <td>14</td>\n",
       "      <td>-</td>\n",
       "      <td>-</td>\n",
       "      <td>-</td>\n",
       "      <td>3.5</td>\n",
       "    </tr>\n",
       "    <tr>\n",
       "      <th>7693</th>\n",
       "      <td>68.0</td>\n",
       "      <td>76</td>\n",
       "      <td>-</td>\n",
       "      <td>-</td>\n",
       "      <td>-</td>\n",
       "      <td>4.026</td>\n",
       "    </tr>\n",
       "    <tr>\n",
       "      <th>7694</th>\n",
       "      <td>69.0</td>\n",
       "      <td>38</td>\n",
       "      <td>-</td>\n",
       "      <td>-</td>\n",
       "      <td>-</td>\n",
       "      <td>4.526</td>\n",
       "    </tr>\n",
       "    <tr>\n",
       "      <th>7695</th>\n",
       "      <td>70.0</td>\n",
       "      <td>169</td>\n",
       "      <td>-</td>\n",
       "      <td>-</td>\n",
       "      <td>-</td>\n",
       "      <td>4.503</td>\n",
       "    </tr>\n",
       "  </tbody>\n",
       "</table>\n",
       "<p>7696 rows × 6 columns</p>\n",
       "</div>"
      ],
      "text/plain": [
       "      Unnamed: 0 Reviews Size comfort  \\\n",
       "0            0.0       -   35       -   \n",
       "1            1.0       -   35       -   \n",
       "2            2.0       -   35       -   \n",
       "3            3.0       -   35       -   \n",
       "4            4.0       -   35       -   \n",
       "...          ...     ...  ...     ...   \n",
       "7691        66.0     142    -       -   \n",
       "7692        67.0      14    -       -   \n",
       "7693        68.0      76    -       -   \n",
       "7694        69.0      38    -       -   \n",
       "7695        70.0     169    -       -   \n",
       "\n",
       "     durability /quality/performance(quantification) Star Rating  \n",
       "0                                                  -           -  \n",
       "1                                                  -           -  \n",
       "2                                                  -           -  \n",
       "3                                                  -           -  \n",
       "4                                                  -           -  \n",
       "...                                              ...         ...  \n",
       "7691                                               -       4.683  \n",
       "7692                                               -         3.5  \n",
       "7693                                               -       4.026  \n",
       "7694                                               -       4.526  \n",
       "7695                                               -       4.503  \n",
       "\n",
       "[7696 rows x 6 columns]"
      ]
     },
     "execution_count": 5,
     "metadata": {},
     "output_type": "execute_result"
    }
   ],
   "source": [
    "df3=pd.read_csv('Capstone_CSV3.csv')\n",
    "df3=df3.drop(['Unnamed: 0.6','Unnamed: 0.4','Unnamed: 0.3','Unnamed: 0.2','Unnamed: 0.1','Unnamed: 0.5'],axis=1)\n",
    "df3"
   ]
  },
  {
   "cell_type": "code",
   "execution_count": 6,
   "id": "9112db61",
   "metadata": {},
   "outputs": [],
   "source": [
    "df4 = pd.merge(df1, df2, how='inner', left_index=True,\n",
    "                  right_index=True)"
   ]
  },
  {
   "cell_type": "code",
   "execution_count": 7,
   "id": "81a6d419",
   "metadata": {},
   "outputs": [],
   "source": [
    "final=pd.merge(df4, df3, how='inner', left_index=True,\n",
    "                  right_index=True)"
   ]
  },
  {
   "cell_type": "code",
   "execution_count": 8,
   "id": "12c6dc76",
   "metadata": {},
   "outputs": [],
   "source": [
    "final.to_csv('Capstone.csv')"
   ]
  },
  {
   "cell_type": "code",
   "execution_count": 9,
   "id": "ffbcb999",
   "metadata": {},
   "outputs": [
    {
     "data": {
      "text/html": [
       "<div>\n",
       "<style scoped>\n",
       "    .dataframe tbody tr th:only-of-type {\n",
       "        vertical-align: middle;\n",
       "    }\n",
       "\n",
       "    .dataframe tbody tr th {\n",
       "        vertical-align: top;\n",
       "    }\n",
       "\n",
       "    .dataframe thead th {\n",
       "        text-align: right;\n",
       "    }\n",
       "</style>\n",
       "<table border=\"1\" class=\"dataframe\">\n",
       "  <thead>\n",
       "    <tr style=\"text-align: right;\">\n",
       "      <th></th>\n",
       "      <th>Name</th>\n",
       "      <th>No. of colors</th>\n",
       "      <th>Category</th>\n",
       "      <th>Price</th>\n",
       "      <th>Colour 1</th>\n",
       "      <th>Colour 2</th>\n",
       "      <th>Colour 3</th>\n",
       "      <th>Colour 4</th>\n",
       "      <th>Colour 5</th>\n",
       "      <th>Product Code</th>\n",
       "      <th>No. of sizes</th>\n",
       "      <th>Unnamed: 0</th>\n",
       "      <th>Reviews</th>\n",
       "      <th>Size</th>\n",
       "      <th>comfort</th>\n",
       "      <th>durability /quality/performance(quantification)</th>\n",
       "      <th>Star Rating</th>\n",
       "    </tr>\n",
       "  </thead>\n",
       "  <tbody>\n",
       "    <tr>\n",
       "      <th>0</th>\n",
       "      <td>Bright Grey Boots for Women</td>\n",
       "      <td>4</td>\n",
       "      <td>Women</td>\n",
       "      <td>5995</td>\n",
       "      <td>BRIGHT GREY</td>\n",
       "      <td>SANDY BEIGE</td>\n",
       "      <td>LSNAYPE</td>\n",
       "      <td>CANVAS GREEN</td>\n",
       "      <td>-</td>\n",
       "      <td>FLC0AX037821S</td>\n",
       "      <td>7</td>\n",
       "      <td>0.0</td>\n",
       "      <td>-</td>\n",
       "      <td>35</td>\n",
       "      <td>-</td>\n",
       "      <td>-</td>\n",
       "      <td>-</td>\n",
       "    </tr>\n",
       "    <tr>\n",
       "      <th>1</th>\n",
       "      <td>Brown Boot for Women</td>\n",
       "      <td>3</td>\n",
       "      <td>Women</td>\n",
       "      <td>5495</td>\n",
       "      <td>BROWN</td>\n",
       "      <td>LGREY</td>\n",
       "      <td>KHAKI</td>\n",
       "      <td>-</td>\n",
       "      <td>-</td>\n",
       "      <td>FLC015044231A</td>\n",
       "      <td>7</td>\n",
       "      <td>1.0</td>\n",
       "      <td>-</td>\n",
       "      <td>35</td>\n",
       "      <td>-</td>\n",
       "      <td>-</td>\n",
       "      <td>-</td>\n",
       "    </tr>\n",
       "    <tr>\n",
       "      <th>2</th>\n",
       "      <td>DROYAL BLUE boots for women</td>\n",
       "      <td>3</td>\n",
       "      <td>Women</td>\n",
       "      <td>5495</td>\n",
       "      <td>DROYAL BLUE</td>\n",
       "      <td>OLIVE GREEN</td>\n",
       "      <td>KHAKI</td>\n",
       "      <td>-</td>\n",
       "      <td>-</td>\n",
       "      <td>FLC0H9033561A</td>\n",
       "      <td>7</td>\n",
       "      <td>2.0</td>\n",
       "      <td>-</td>\n",
       "      <td>35</td>\n",
       "      <td>-</td>\n",
       "      <td>-</td>\n",
       "      <td>-</td>\n",
       "    </tr>\n",
       "    <tr>\n",
       "      <th>3</th>\n",
       "      <td>Beige boot for men</td>\n",
       "      <td>2</td>\n",
       "      <td>Women</td>\n",
       "      <td>6995</td>\n",
       "      <td>BEIGE</td>\n",
       "      <td>CAMEL</td>\n",
       "      <td>-</td>\n",
       "      <td>-</td>\n",
       "      <td>-</td>\n",
       "      <td>FLC0510AR852A</td>\n",
       "      <td>9</td>\n",
       "      <td>3.0</td>\n",
       "      <td>-</td>\n",
       "      <td>35</td>\n",
       "      <td>-</td>\n",
       "      <td>-</td>\n",
       "      <td>-</td>\n",
       "    </tr>\n",
       "    <tr>\n",
       "      <th>4</th>\n",
       "      <td>Woodland Rusty red boots for women</td>\n",
       "      <td>3</td>\n",
       "      <td>Women</td>\n",
       "      <td>5495</td>\n",
       "      <td>RUSTY RED</td>\n",
       "      <td>DNAVY</td>\n",
       "      <td>SNAYPE</td>\n",
       "      <td>-</td>\n",
       "      <td>-</td>\n",
       "      <td>FLC015022491A</td>\n",
       "      <td>7</td>\n",
       "      <td>4.0</td>\n",
       "      <td>-</td>\n",
       "      <td>35</td>\n",
       "      <td>-</td>\n",
       "      <td>-</td>\n",
       "      <td>-</td>\n",
       "    </tr>\n",
       "    <tr>\n",
       "      <th>...</th>\n",
       "      <td>...</td>\n",
       "      <td>...</td>\n",
       "      <td>...</td>\n",
       "      <td>...</td>\n",
       "      <td>...</td>\n",
       "      <td>...</td>\n",
       "      <td>...</td>\n",
       "      <td>...</td>\n",
       "      <td>...</td>\n",
       "      <td>...</td>\n",
       "      <td>...</td>\n",
       "      <td>...</td>\n",
       "      <td>...</td>\n",
       "      <td>...</td>\n",
       "      <td>...</td>\n",
       "      <td>...</td>\n",
       "      <td>...</td>\n",
       "    </tr>\n",
       "    <tr>\n",
       "      <th>5643</th>\n",
       "      <td>Men's Bugaboot™ Celsius Plus Boot</td>\n",
       "      <td>2</td>\n",
       "      <td>Women</td>\n",
       "      <td>$37.50</td>\n",
       "      <td>BROWN</td>\n",
       "      <td>-</td>\n",
       "      <td>-</td>\n",
       "      <td>-</td>\n",
       "      <td>-</td>\n",
       "      <td>FGC018146782A</td>\n",
       "      <td>7</td>\n",
       "      <td>809.0</td>\n",
       "      <td>3</td>\n",
       "      <td>Perfect</td>\n",
       "      <td>Comfortable</td>\n",
       "      <td>Average</td>\n",
       "      <td>4.3</td>\n",
       "    </tr>\n",
       "    <tr>\n",
       "      <th>5644</th>\n",
       "      <td>Men's Plateau™ Waterproof Shoe</td>\n",
       "      <td>3</td>\n",
       "      <td>Women</td>\n",
       "      <td>$84.00</td>\n",
       "      <td>DBROWN</td>\n",
       "      <td>-</td>\n",
       "      <td>-</td>\n",
       "      <td>-</td>\n",
       "      <td>-</td>\n",
       "      <td>FGC0150S6852A</td>\n",
       "      <td>7</td>\n",
       "      <td>810.0</td>\n",
       "      <td>29</td>\n",
       "      <td>Perfect</td>\n",
       "      <td>Uncomfortable</td>\n",
       "      <td>Average</td>\n",
       "      <td>4.9</td>\n",
       "    </tr>\n",
       "    <tr>\n",
       "      <th>5645</th>\n",
       "      <td>Men's Facet™ Sierra OutDry™ Boot</td>\n",
       "      <td>2</td>\n",
       "      <td>Women</td>\n",
       "      <td>$98.00</td>\n",
       "      <td>KHAKI</td>\n",
       "      <td>-</td>\n",
       "      <td>-</td>\n",
       "      <td>-</td>\n",
       "      <td>-</td>\n",
       "      <td>FGC0L5019811A</td>\n",
       "      <td>7</td>\n",
       "      <td>811.0</td>\n",
       "      <td>41</td>\n",
       "      <td>Perfect</td>\n",
       "      <td>Comfortable</td>\n",
       "      <td>Average</td>\n",
       "      <td>4.9</td>\n",
       "    </tr>\n",
       "    <tr>\n",
       "      <th>5646</th>\n",
       "      <td>Men's Trailstorm™ Peak Mid Shoe</td>\n",
       "      <td>2</td>\n",
       "      <td>Women</td>\n",
       "      <td>$60.00</td>\n",
       "      <td>BROWN</td>\n",
       "      <td>-</td>\n",
       "      <td>-</td>\n",
       "      <td>-</td>\n",
       "      <td>-</td>\n",
       "      <td>FGC0150S6872A</td>\n",
       "      <td>7</td>\n",
       "      <td>812.0</td>\n",
       "      <td>25</td>\n",
       "      <td>Perfect</td>\n",
       "      <td>Comfortable</td>\n",
       "      <td>Average</td>\n",
       "      <td>5.0</td>\n",
       "    </tr>\n",
       "    <tr>\n",
       "      <th>5647</th>\n",
       "      <td>Men's Crestwood™ Hiking Shoe – Wide</td>\n",
       "      <td>3</td>\n",
       "      <td>Women</td>\n",
       "      <td>$97.50</td>\n",
       "      <td>CAMEL</td>\n",
       "      <td>KHAKI</td>\n",
       "      <td>-</td>\n",
       "      <td>-</td>\n",
       "      <td>-</td>\n",
       "      <td>FGC0H9027811A</td>\n",
       "      <td>7</td>\n",
       "      <td>813.0</td>\n",
       "      <td>7</td>\n",
       "      <td>Perfect</td>\n",
       "      <td>Comfortable</td>\n",
       "      <td>Average</td>\n",
       "      <td>4.5</td>\n",
       "    </tr>\n",
       "  </tbody>\n",
       "</table>\n",
       "<p>5648 rows × 17 columns</p>\n",
       "</div>"
      ],
      "text/plain": [
       "                                     Name No. of colors Category   Price  \\\n",
       "0             Bright Grey Boots for Women             4    Women    5995   \n",
       "1                    Brown Boot for Women             3    Women    5495   \n",
       "2             DROYAL BLUE boots for women             3    Women    5495   \n",
       "3                      Beige boot for men             2    Women    6995   \n",
       "4      Woodland Rusty red boots for women             3    Women    5495   \n",
       "...                                   ...           ...      ...     ...   \n",
       "5643    Men's Bugaboot™ Celsius Plus Boot             2    Women  $37.50   \n",
       "5644       Men's Plateau™ Waterproof Shoe             3    Women  $84.00   \n",
       "5645     Men's Facet™ Sierra OutDry™ Boot             2    Women  $98.00   \n",
       "5646      Men's Trailstorm™ Peak Mid Shoe             2    Women  $60.00   \n",
       "5647  Men's Crestwood™ Hiking Shoe – Wide             3    Women  $97.50   \n",
       "\n",
       "         Colour 1     Colour 2 Colour 3      Colour 4 Colour 5   Product Code  \\\n",
       "0     BRIGHT GREY  SANDY BEIGE  LSNAYPE  CANVAS GREEN        -  FLC0AX037821S   \n",
       "1           BROWN        LGREY    KHAKI             -        -  FLC015044231A   \n",
       "2     DROYAL BLUE  OLIVE GREEN    KHAKI             -        -  FLC0H9033561A   \n",
       "3           BEIGE        CAMEL        -             -        -  FLC0510AR852A   \n",
       "4       RUSTY RED        DNAVY   SNAYPE             -        -  FLC015022491A   \n",
       "...           ...          ...      ...           ...      ...            ...   \n",
       "5643        BROWN            -        -             -        -  FGC018146782A   \n",
       "5644       DBROWN            -        -             -        -  FGC0150S6852A   \n",
       "5645        KHAKI            -        -             -        -  FGC0L5019811A   \n",
       "5646        BROWN            -        -             -        -  FGC0150S6872A   \n",
       "5647        CAMEL        KHAKI        -             -        -  FGC0H9027811A   \n",
       "\n",
       "     No. of sizes  Unnamed: 0 Reviews     Size        comfort  \\\n",
       "0               7         0.0       -       35              -   \n",
       "1               7         1.0       -       35              -   \n",
       "2               7         2.0       -       35              -   \n",
       "3               9         3.0       -       35              -   \n",
       "4               7         4.0       -       35              -   \n",
       "...           ...         ...     ...      ...            ...   \n",
       "5643            7       809.0       3  Perfect    Comfortable   \n",
       "5644            7       810.0      29  Perfect  Uncomfortable   \n",
       "5645            7       811.0      41  Perfect    Comfortable   \n",
       "5646            7       812.0      25  Perfect    Comfortable   \n",
       "5647            7       813.0       7  Perfect    Comfortable   \n",
       "\n",
       "     durability /quality/performance(quantification) Star Rating  \n",
       "0                                                  -           -  \n",
       "1                                                  -           -  \n",
       "2                                                  -           -  \n",
       "3                                                  -           -  \n",
       "4                                                  -           -  \n",
       "...                                              ...         ...  \n",
       "5643                                         Average         4.3  \n",
       "5644                                         Average         4.9  \n",
       "5645                                         Average         4.9  \n",
       "5646                                         Average         5.0  \n",
       "5647                                         Average         4.5  \n",
       "\n",
       "[5648 rows x 17 columns]"
      ]
     },
     "execution_count": 9,
     "metadata": {},
     "output_type": "execute_result"
    }
   ],
   "source": [
    "df=pd.read_csv(\"Capstone.csv\")\n",
    "df=df.drop(['Unnamed: 0.1','Unnamed: 0_x','Unnamed: 0_y'],axis=1)\n",
    "df"
   ]
  },
  {
   "cell_type": "markdown",
   "id": "85be55d0",
   "metadata": {},
   "source": [
    "Here data contains the details of Shoes  which is in form of numerical data and categorical data. Here 'star' and 'Price' are target variables."
   ]
  },
  {
   "cell_type": "markdown",
   "id": "45febf0d",
   "metadata": {},
   "source": [
    "# Exploratory Data Analysis (EDA)"
   ]
  },
  {
   "cell_type": "code",
   "execution_count": 10,
   "id": "7aa2f3c6",
   "metadata": {
    "scrolled": true
   },
   "outputs": [
    {
     "data": {
      "text/html": [
       "<div>\n",
       "<style scoped>\n",
       "    .dataframe tbody tr th:only-of-type {\n",
       "        vertical-align: middle;\n",
       "    }\n",
       "\n",
       "    .dataframe tbody tr th {\n",
       "        vertical-align: top;\n",
       "    }\n",
       "\n",
       "    .dataframe thead th {\n",
       "        text-align: right;\n",
       "    }\n",
       "</style>\n",
       "<table border=\"1\" class=\"dataframe\">\n",
       "  <thead>\n",
       "    <tr style=\"text-align: right;\">\n",
       "      <th></th>\n",
       "      <th>Name</th>\n",
       "      <th>No. of colors</th>\n",
       "      <th>Category</th>\n",
       "      <th>Price</th>\n",
       "      <th>Colour 1</th>\n",
       "      <th>Colour 2</th>\n",
       "      <th>Colour 3</th>\n",
       "      <th>Colour 4</th>\n",
       "      <th>Colour 5</th>\n",
       "      <th>Product Code</th>\n",
       "      <th>No. of sizes</th>\n",
       "      <th>Unnamed: 0</th>\n",
       "      <th>Reviews</th>\n",
       "      <th>Size</th>\n",
       "      <th>comfort</th>\n",
       "      <th>durability /quality/performance(quantification)</th>\n",
       "      <th>Star Rating</th>\n",
       "    </tr>\n",
       "  </thead>\n",
       "  <tbody>\n",
       "    <tr>\n",
       "      <th>0</th>\n",
       "      <td>Bright Grey Boots for Women</td>\n",
       "      <td>4</td>\n",
       "      <td>Women</td>\n",
       "      <td>5995</td>\n",
       "      <td>BRIGHT GREY</td>\n",
       "      <td>SANDY BEIGE</td>\n",
       "      <td>LSNAYPE</td>\n",
       "      <td>CANVAS GREEN</td>\n",
       "      <td>-</td>\n",
       "      <td>FLC0AX037821S</td>\n",
       "      <td>7</td>\n",
       "      <td>0.0</td>\n",
       "      <td>-</td>\n",
       "      <td>35</td>\n",
       "      <td>-</td>\n",
       "      <td>-</td>\n",
       "      <td>-</td>\n",
       "    </tr>\n",
       "    <tr>\n",
       "      <th>1</th>\n",
       "      <td>Brown Boot for Women</td>\n",
       "      <td>3</td>\n",
       "      <td>Women</td>\n",
       "      <td>5495</td>\n",
       "      <td>BROWN</td>\n",
       "      <td>LGREY</td>\n",
       "      <td>KHAKI</td>\n",
       "      <td>-</td>\n",
       "      <td>-</td>\n",
       "      <td>FLC015044231A</td>\n",
       "      <td>7</td>\n",
       "      <td>1.0</td>\n",
       "      <td>-</td>\n",
       "      <td>35</td>\n",
       "      <td>-</td>\n",
       "      <td>-</td>\n",
       "      <td>-</td>\n",
       "    </tr>\n",
       "    <tr>\n",
       "      <th>2</th>\n",
       "      <td>DROYAL BLUE boots for women</td>\n",
       "      <td>3</td>\n",
       "      <td>Women</td>\n",
       "      <td>5495</td>\n",
       "      <td>DROYAL BLUE</td>\n",
       "      <td>OLIVE GREEN</td>\n",
       "      <td>KHAKI</td>\n",
       "      <td>-</td>\n",
       "      <td>-</td>\n",
       "      <td>FLC0H9033561A</td>\n",
       "      <td>7</td>\n",
       "      <td>2.0</td>\n",
       "      <td>-</td>\n",
       "      <td>35</td>\n",
       "      <td>-</td>\n",
       "      <td>-</td>\n",
       "      <td>-</td>\n",
       "    </tr>\n",
       "    <tr>\n",
       "      <th>3</th>\n",
       "      <td>Beige boot for men</td>\n",
       "      <td>2</td>\n",
       "      <td>Women</td>\n",
       "      <td>6995</td>\n",
       "      <td>BEIGE</td>\n",
       "      <td>CAMEL</td>\n",
       "      <td>-</td>\n",
       "      <td>-</td>\n",
       "      <td>-</td>\n",
       "      <td>FLC0510AR852A</td>\n",
       "      <td>9</td>\n",
       "      <td>3.0</td>\n",
       "      <td>-</td>\n",
       "      <td>35</td>\n",
       "      <td>-</td>\n",
       "      <td>-</td>\n",
       "      <td>-</td>\n",
       "    </tr>\n",
       "    <tr>\n",
       "      <th>4</th>\n",
       "      <td>Woodland Rusty red boots for women</td>\n",
       "      <td>3</td>\n",
       "      <td>Women</td>\n",
       "      <td>5495</td>\n",
       "      <td>RUSTY RED</td>\n",
       "      <td>DNAVY</td>\n",
       "      <td>SNAYPE</td>\n",
       "      <td>-</td>\n",
       "      <td>-</td>\n",
       "      <td>FLC015022491A</td>\n",
       "      <td>7</td>\n",
       "      <td>4.0</td>\n",
       "      <td>-</td>\n",
       "      <td>35</td>\n",
       "      <td>-</td>\n",
       "      <td>-</td>\n",
       "      <td>-</td>\n",
       "    </tr>\n",
       "  </tbody>\n",
       "</table>\n",
       "</div>"
      ],
      "text/plain": [
       "                                 Name No. of colors Category Price  \\\n",
       "0         Bright Grey Boots for Women             4    Women  5995   \n",
       "1                Brown Boot for Women             3    Women  5495   \n",
       "2         DROYAL BLUE boots for women             3    Women  5495   \n",
       "3                  Beige boot for men             2    Women  6995   \n",
       "4  Woodland Rusty red boots for women             3    Women  5495   \n",
       "\n",
       "      Colour 1     Colour 2 Colour 3      Colour 4 Colour 5   Product Code  \\\n",
       "0  BRIGHT GREY  SANDY BEIGE  LSNAYPE  CANVAS GREEN        -  FLC0AX037821S   \n",
       "1        BROWN        LGREY    KHAKI             -        -  FLC015044231A   \n",
       "2  DROYAL BLUE  OLIVE GREEN    KHAKI             -        -  FLC0H9033561A   \n",
       "3        BEIGE        CAMEL        -             -        -  FLC0510AR852A   \n",
       "4    RUSTY RED        DNAVY   SNAYPE             -        -  FLC015022491A   \n",
       "\n",
       "  No. of sizes  Unnamed: 0 Reviews Size comfort  \\\n",
       "0            7         0.0       -   35       -   \n",
       "1            7         1.0       -   35       -   \n",
       "2            7         2.0       -   35       -   \n",
       "3            9         3.0       -   35       -   \n",
       "4            7         4.0       -   35       -   \n",
       "\n",
       "  durability /quality/performance(quantification) Star Rating  \n",
       "0                                               -           -  \n",
       "1                                               -           -  \n",
       "2                                               -           -  \n",
       "3                                               -           -  \n",
       "4                                               -           -  "
      ]
     },
     "execution_count": 10,
     "metadata": {},
     "output_type": "execute_result"
    }
   ],
   "source": [
    "df.head()"
   ]
  },
  {
   "cell_type": "code",
   "execution_count": 11,
   "id": "56cd3c7b",
   "metadata": {},
   "outputs": [
    {
     "data": {
      "text/plain": [
       "(5648, 17)"
      ]
     },
     "execution_count": 11,
     "metadata": {},
     "output_type": "execute_result"
    }
   ],
   "source": [
    "#checking rows and columns of data set\n",
    "df.shape"
   ]
  },
  {
   "cell_type": "markdown",
   "id": "661d46de",
   "metadata": {},
   "source": [
    "The given data set has 5648 rows and 17 columns of which 2 are target variable and other 15 are independent variable."
   ]
  },
  {
   "cell_type": "code",
   "execution_count": 12,
   "id": "a70cc1cf",
   "metadata": {},
   "outputs": [
    {
     "data": {
      "text/plain": [
       "Index(['Name', 'No. of colors', 'Category', 'Price', 'Colour 1', 'Colour 2',\n",
       "       'Colour 3', 'Colour 4', 'Colour 5', 'Product Code', 'No. of sizes',\n",
       "       'Unnamed: 0', 'Reviews', 'Size', 'comfort',\n",
       "       'durability /quality/performance(quantification)', 'Star Rating'],\n",
       "      dtype='object')"
      ]
     },
     "execution_count": 12,
     "metadata": {},
     "output_type": "execute_result"
    }
   ],
   "source": [
    "df.columns"
   ]
  },
  {
   "cell_type": "markdown",
   "id": "a189c437",
   "metadata": {},
   "source": [
    "Th list denotes the name of different columns."
   ]
  },
  {
   "cell_type": "code",
   "execution_count": 13,
   "id": "bec16e66",
   "metadata": {},
   "outputs": [
    {
     "data": {
      "text/plain": [
       "Name                                                object\n",
       "No. of colors                                       object\n",
       "Category                                            object\n",
       "Price                                               object\n",
       "Colour 1                                            object\n",
       "Colour 2                                            object\n",
       "Colour 3                                            object\n",
       "Colour 4                                            object\n",
       "Colour 5                                            object\n",
       "Product Code                                        object\n",
       "No. of sizes                                        object\n",
       "Unnamed: 0                                         float64\n",
       "Reviews                                             object\n",
       "Size                                                object\n",
       "comfort                                             object\n",
       "durability /quality/performance(quantification)     object\n",
       "Star Rating                                         object\n",
       "dtype: object"
      ]
     },
     "execution_count": 13,
     "metadata": {},
     "output_type": "execute_result"
    }
   ],
   "source": [
    "df.dtypes"
   ]
  },
  {
   "cell_type": "markdown",
   "id": "84f24ad3",
   "metadata": {},
   "source": [
    "We can see here all columns are object data type so lets convert 'No. of colors ', 'Price', 'No. of sizes','Reviews','Size ', 'Star Rating ' to either float or int data type"
   ]
  },
  {
   "cell_type": "code",
   "execution_count": 14,
   "id": "b10fe806",
   "metadata": {
    "scrolled": true
   },
   "outputs": [
    {
     "data": {
      "text/plain": [
       "array(['4', '3', '2', '1', '5', '3 colours available', '-',\n",
       "       '4 colours available', '6 colours available',\n",
       "       '2 colours available', '5 colours available',\n",
       "       '10 colours available', '11 colours available',\n",
       "       '16 colours available', '7 colours available',\n",
       "       '9 colours available', '13 colours available',\n",
       "       '15 colours available', '8 colours available', '2 Colours',\n",
       "       '1 Colour', '3 Colours', '5 Colours', '6 Colours', '10 Colours',\n",
       "       '4 Colours', '14 Colours', '7 Colours', '8 Colours', '9 Colours',\n",
       "       '6', '7', '9', '8'], dtype=object)"
      ]
     },
     "execution_count": 14,
     "metadata": {},
     "output_type": "execute_result"
    }
   ],
   "source": [
    "df['No. of colors'].unique()"
   ]
  },
  {
   "cell_type": "code",
   "execution_count": 15,
   "id": "b9617a59",
   "metadata": {},
   "outputs": [],
   "source": [
    "df['No. of colors'] = df['No. of colors'].replace(['3 colours available', '-',\n",
    "    '4 colours available', '6 colours available',\n",
    "       '2 colours available', '5 colours available',\n",
    "       '10 colours available', '11 colours available',\n",
    "       '16 colours available', '7 colours available',\n",
    "       '9 colours available', '13 colours available',\n",
    "       '15 colours available', '8 colours available', '2 Colours',\n",
    "       '1 Colour', '3 Colours', '5 Colours', '6 Colours', '10 Colours',\n",
    "       '4 Colours', '14 Colours', '7 Colours', '8 Colours', '9 Colours'], ['3','NaN','4','6','2','5','10','11','16','7',\n",
    "                                                                          '9','13','15','8','2','1','3','5','6','10','4','14',\n",
    "                                                                          '7','8','9'])"
   ]
  },
  {
   "cell_type": "code",
   "execution_count": 16,
   "id": "80d8004f",
   "metadata": {},
   "outputs": [],
   "source": [
    "df['No. of colors'] = df['No. of colors'].astype(str).astype(float)"
   ]
  },
  {
   "cell_type": "code",
   "execution_count": 17,
   "id": "652fa123",
   "metadata": {},
   "outputs": [],
   "source": [
    "df['No. of sizes'] = df['No. of sizes'].replace([\"Sorry, sizes couldn't load. Try reloading them below.\",'AAA','-'], ['NaN','NaN','NaN'])"
   ]
  },
  {
   "cell_type": "code",
   "execution_count": 18,
   "id": "3aa78fc4",
   "metadata": {},
   "outputs": [
    {
     "data": {
      "text/plain": [
       "array(['-', '4848', '81', '6994', '6983', '19749', '214', '10601', '51',\n",
       "       '9', '132', '131', '604', '7', '71', '4897', '47', '93', '39',\n",
       "       '2562', '57', '164', '61', '4435', '138', '62', '166', '107', '8',\n",
       "       '230', '269', '17', '263', '2145', '32', '343', '28', '467',\n",
       "       '1632', '13', '31', '23', '24', '123', '5', '33', '112', '6',\n",
       "       '1493', '2137', '67', '91', '3', '617', '18', '354', '92', '1',\n",
       "       '260', '1881', '10', '59', '2', '70', '196', '16', '1895', '90',\n",
       "       '14', '29', '590', '289', '4', '21', '537', '152', '261', '78',\n",
       "       '541', '11', '52', '216', '339', '2563', '188', '15', '100', '542',\n",
       "       '55', '41', '951', '22', '77', '38', '678', '106', '478', '151',\n",
       "       '140', '652', '56', '80', '25', '145', '267', '12', '497', '30',\n",
       "       '402', '155', '290', '63', '94', '270', '99', '352', '462', '699',\n",
       "       '161', '75', '26', '141', '113', '2281', '79', '142', '65', '96',\n",
       "       '60', '20', '124', '42', '89', '54', '415', '283', '320', '36',\n",
       "       '44', '189', '253', '817', '530', '34', '266', '156', '50', '85',\n",
       "       '370', '765', '180', '181', '35', '69', '857', '88', '441', '208',\n",
       "       '144', '64', '114', '210', '219', '1453', '43', '104', '1244',\n",
       "       '118', '705', '175', '535', '212', '2652', '819', '19', '1708',\n",
       "       '49', '204', '2431', '251', '533', '172', '58', '115', '174',\n",
       "       '492', '109', '136', '82', '405', '776', '677', '1104', '475',\n",
       "       '120', '3326', '37', '45', '122', '46', '27', '184', '4856',\n",
       "       '7027', '19765', '259', '829', '377', '129', '390', '127', '240',\n",
       "       '222', '159', '3038', '1219', '48', '134', '125', '182', '585',\n",
       "       '173', '149', '1494', '280', '581', '179', '227', '2147', '193',\n",
       "       '1228', '40', '611', '1899', '1898', '747', '205', '6123', '1905',\n",
       "       '488', '265', '486', '592', '165', '292', '744', '244', '471',\n",
       "       '4900', '53', '743', '154', '245', '1200', '4438', '1634', '76',\n",
       "       '218', '258', '176', '101', '137', '588', '422', '408', '87',\n",
       "       '482', '626', '1001', '824', '426', '681', '228', '177', '103',\n",
       "       '276', '1158', '647', '399', '863', '1216', '403', '246', '499',\n",
       "       '243', '297', '304', '418', '481', '200', '111', '74', '1017',\n",
       "       '1198', '10609', '527', '1336', '192', '119', '739', '1637', '608',\n",
       "       '348', '257', '19768', '117', '487', '248', '221', '3039', '217',\n",
       "       '95', '170', '303', '1393', '310', '72', '525', '607', '168',\n",
       "       '195', '3271', '264', '2564', '169', '1454', '242', '380', '1090',\n",
       "       '211', '97', '171', '66', '135', '498', '2096', '2653', '1929',\n",
       "       '4906', '569', '567', '4874', '7135', '19793', '10625', '2565',\n",
       "       '4441', '139', '1639', '598', '2154', '1501', '2139', '359', '618',\n",
       "       '778', '427', '4904', '484'], dtype=object)"
      ]
     },
     "execution_count": 18,
     "metadata": {},
     "output_type": "execute_result"
    }
   ],
   "source": [
    "df['Reviews'].unique()"
   ]
  },
  {
   "cell_type": "code",
   "execution_count": 19,
   "id": "e4e221be",
   "metadata": {},
   "outputs": [],
   "source": [
    "df['Reviews'] = df['Reviews'].replace(['-'], 'NaN')"
   ]
  },
  {
   "cell_type": "code",
   "execution_count": 20,
   "id": "82450459",
   "metadata": {},
   "outputs": [],
   "source": [
    "df['Reviews'] = df['Reviews'].astype(str).astype(float)"
   ]
  },
  {
   "cell_type": "code",
   "execution_count": 21,
   "id": "1bfd6c8d",
   "metadata": {},
   "outputs": [
    {
     "data": {
      "text/plain": [
       "array(['7', '9', '11', '0', 'NaN', '4', '2', '3', '6', '5', '1', '8',\n",
       "       '10', '15', '13', '12', '17', '20', '21', '18', '16', '19', '14',\n",
       "       '22', '26', '23'], dtype=object)"
      ]
     },
     "execution_count": 21,
     "metadata": {},
     "output_type": "execute_result"
    }
   ],
   "source": [
    "df['No. of sizes'].unique()"
   ]
  },
  {
   "cell_type": "code",
   "execution_count": 22,
   "id": "286e11e0",
   "metadata": {},
   "outputs": [],
   "source": [
    "df['No. of sizes'] = df['No. of sizes'].replace([\"Sorry, sizes couldn't load. Try reloading them below.\",'AAA','-'], ['NaN','NaN','NaN'])"
   ]
  },
  {
   "cell_type": "code",
   "execution_count": 23,
   "id": "a1b5d904",
   "metadata": {},
   "outputs": [],
   "source": [
    "df['No. of sizes'] = df['No. of sizes'].astype(str).astype(float)"
   ]
  },
  {
   "cell_type": "code",
   "execution_count": 24,
   "id": "4b46499c",
   "metadata": {
    "scrolled": true
   },
   "outputs": [
    {
     "data": {
      "text/plain": [
       "array(['5995', '5495', '6995', '4995', '9995', '18995', '12995', '15995',\n",
       "       '13995', '14995', '10995', '8995', '17995', '4595', '4495', '6495',\n",
       "       '4795', '4695', '4295', '3995', '7995', '3895', '11995', '4895',\n",
       "       '5295', '3295', '3795', '5695', '4195', '16995', '₹8 999.00',\n",
       "       '₹4 499.50', '₹10 999.00', '₹11 999.00', '₹2 999.00', '₹1 499.50',\n",
       "       '₹5 499.50', '₹3 999.00', '₹2 399.50', '₹4 299.00', '₹2 579.50',\n",
       "       '₹9 999.00', '₹4 999.50', '₹4 999.00', '₹2 499.50', '₹6 999.00',\n",
       "       '₹4 199.50', '₹12 999.00', '₹5 200.00', '₹2 299.00', '₹920.00',\n",
       "       '₹4 599.00', '₹3 449.50', '₹1 799.50', '₹13 999.00', '₹10 499.50',\n",
       "       '₹5 599.00', '₹3 919.50', '₹5 999.00', '₹2 999.50', '₹6 599.50',\n",
       "       '₹1 999.00', '₹3 359.50', '₹15 999.00', '₹9 599.50', '₹7 999.00',\n",
       "       '₹4 799.50', '₹5 999.50', '₹17 999.00', '₹13 499.50', '₹2 099.50',\n",
       "       '₹6 599.00', '₹3 299.50', '₹7 199.50', '₹3 599.00', '₹1 720.00',\n",
       "       '₹21 999.00', '₹2 799.50', '₹3 959.50', '₹2 159.50', '₹4 799.00',\n",
       "       '₹7 699.50', '₹8 399.50', '₹3 599.50', '₹19 999.00', '₹11 999.50',\n",
       "       '₹18 999.00', '₹11 399.50', '₹5 299.00', '₹3 179.50', '₹14 999.00',\n",
       "       '₹9 749.50', '₹69 999.00', '₹64 999.00', '₹22 999.00',\n",
       "       '₹24 999.00', '₹49 999.00', '₹39 999.00', '₹37 999.00',\n",
       "       '₹9 799.50', '₹34 999.00', '₹29 999.00', '₹4 949.50', '₹27 999.00',\n",
       "       '₹13 299.50', '₹2 759.50', '₹6 999.50', '₹5 249.50', '₹12 599.50',\n",
       "       '₹8 999.50', '₹3 799.00', '₹2 849.50', '₹8 599.00', '₹10 799.50',\n",
       "       '₹11 199.50', '₹16 999.00', '₹7 599.00', '₹6 299.50', '₹9 599.00',\n",
       "       '₹5 319.50', '₹6 449.50', '₹6 749.50', '₹5 599.50', '₹3 499.50',\n",
       "       '₹12 749.50', '₹11 049.50', '₹1 799.00', '₹1 259.50', '₹13 999.50',\n",
       "       '₹1 499.00', '₹1 049.50', '₹2 659.50', '₹11 249.50', '₹2 299.50',\n",
       "       '₹4 899.50', '₹8 249.50', '₹3 299.00', '₹1 399.50', '₹2 519.50',\n",
       "       '₹9 099.50', '₹6 499.50', '₹999.00', '₹699.50', '₹1 599.00',\n",
       "       '₹11 899.50', '₹1 349.50', '₹7 200.00', '₹7 799.50', '₹10 999.50',\n",
       "       '₹4 559.50', '₹2 799.00', '₹26 999.00', '₹2 499.00', '₹6 299.00',\n",
       "       '₹2 699.00', '₹9,599', '₹3,599', '₹3,569', '₹4,799', '₹4,499',\n",
       "       '₹5,399', '₹3,759', '₹3,999', '₹5,999', '₹2,019', '₹2,999',\n",
       "       '₹2,249', '₹2,159', '₹6,499', '₹3,849', '₹3,119', '₹4,229',\n",
       "       '₹4,049', '₹4,999', '₹2,339', '₹3,299', '₹6,599', '₹3,289',\n",
       "       '₹3,709', '₹5,249', '₹3,639', '₹4,899', '₹5,949', '₹5,359',\n",
       "       '₹3,499', '₹9,099', '₹7,199', '₹2,879', '₹2,149', '₹4,199',\n",
       "       '₹4,459', '₹4,949', '₹2,749', '₹4,119', '₹3,149', '₹2,109',\n",
       "       '₹2,499', '₹6,399', '₹3,249', '₹6,749', '₹6,299', '₹3,749',\n",
       "       '₹7,999', '₹4,769', '₹3,899', '₹5,169', '₹3,769', '₹3,839',\n",
       "       '₹5,499', '₹5,599', '₹6,999', '₹5,619', '₹4,319', '₹4,399',\n",
       "       '₹4,019', '₹3,519', '₹2,399', '₹1,999', '₹3,969', '₹1,719',\n",
       "       '₹2,699', '₹3,049', '₹2,899', '₹2,079', '₹2,819', '₹2,319',\n",
       "       '₹2,199', '₹1,949', '₹2,099', '₹4,689', '₹8,999', '₹11,399',\n",
       "       '₹11,999', '₹14,999', '₹1,749', '₹1,919', '₹8,799', '₹9,349',\n",
       "       '₹13,599', '₹11,199', '₹2,859', '₹10,399', '₹2,469', '₹2,119',\n",
       "       '₹2,579', '₹8,399', '₹10,799', '₹12,799', '₹10,999', '₹19,999',\n",
       "       '₹12,599', '₹5,219', '₹4,639', '₹7,799', '₹11,249', '₹9,999',\n",
       "       '₹16,999', '₹4,869', '₹3,009', '₹3,019', '₹1,249', '₹1,169',\n",
       "       '₹1,799', '₹1,369', '₹1,559', '₹1,299', '₹1,679', '₹1,499',\n",
       "       '₹1,539', '₹1,669', '₹1,199', '₹549', '₹649', '₹849', '₹1,099',\n",
       "       '₹899', '₹1,039', '₹639', '₹1,699', '₹499', '₹1,599', '₹529',\n",
       "       '₹969', '₹519', '₹599', '₹949', '₹1,149', '₹629', '₹2,639',\n",
       "       '₹1,159', '₹989', '₹3,799', '₹12,999', '₹2,239', '₹2,799',\n",
       "       '₹1,879', '₹4,699', '₹1,929', '₹3,369', '₹4,679', '₹3,439',\n",
       "       '₹3,359', '₹2,599', '₹3,399', '₹1,649', '₹1,979', '₹1,809',\n",
       "       '₹1,479', '₹1,409', '₹1,449', '₹1,019', '₹1,189', '₹1,119',\n",
       "       '₹7,149', '₹4,159', '₹5,089', '₹8,499', '₹29,999', '₹5,459',\n",
       "       '₹5,209', '₹5,199', '₹4,909', '₹5,279', '₹4,239', '₹2,559',\n",
       "       '₹4,659', '₹5,719', '₹6,109', '₹5,759', '₹9,749', '-', '₹1,349',\n",
       "       '₹479', '₹469', '₹5,849', '₹11,899', '₹5,519', '₹13,999', '₹6,369',\n",
       "       '₹6,049', '₹1,079', '₹2,539', '₹2,059', '₹1,849', '₹2,009',\n",
       "       '₹1,049', '₹2,349', '₹1,259', '₹1,399', '₹4,249', '₹34,999',\n",
       "       '₹11,699', '₹7,499', '₹2,359', '₹19,199', '₹929', '₹2,789',\n",
       "       '₹1,819', '₹559', '₹5,099', '₹1,029', '₹999', '₹2,229', '₹14,399',\n",
       "       '₹3,419', '₹1,489', '₹2,919', '₹4,549', '₹1,639', '₹15,999',\n",
       "       '₹3,189', '₹5,799', '₹10,199', '₹3,199', '₹1,909', '7 495',\n",
       "       '9 695', '12 795', '10 295', '5 695', '13 995', '7 195', '10 795',\n",
       "       '8 995', '16 995', '14 995', '6 795', '11 895', '7 995', '19 295',\n",
       "       '11 495', '15 295', '9 195', '5 995', '18 395', '4 995', '8 695',\n",
       "       '17 595', '12 995', '3 695', '9 295', '8 295', '22 795', '11 995',\n",
       "       '12 295', '20 695', '8 195', '13 295', '2 195', '3 195', '3 995',\n",
       "       '8 495', '11 595', '18 195', '8 595', '3 895', '19 495', '26 995',\n",
       "       '6 295', '14 195', '7 095', '1 695', '25 095', '25 995', '17 295',\n",
       "       '13 495', '17 495', '8 895', '15 995', '5 495', '16 595', '27 995',\n",
       "       '2 495', '2 095', '9 995', '2 995', '20 995', '10 995', '1 995',\n",
       "       '4 495', '21 295', '$72.00', '$40.00', '$105.00', '$55.00',\n",
       "       '$82.46', '$75.00', '$74.96', '$42.00', '$59.96', '$67.46',\n",
       "       '$67.50', '$45.00', '$90.00', '$120.00', '$48.75', '$82.50',\n",
       "       '$89.96', '$127.50', '$97.50', '$66.00', nan, '$52.50', '$60.00',\n",
       "       '$84.00', '$52.46', '$80.00', '$74.00', '$37.50', '$98.00'],\n",
       "      dtype=object)"
      ]
     },
     "execution_count": 24,
     "metadata": {},
     "output_type": "execute_result"
    }
   ],
   "source": [
    "df['Price'].unique()"
   ]
  },
  {
   "cell_type": "code",
   "execution_count": 27,
   "id": "08ad758c",
   "metadata": {},
   "outputs": [
    {
     "data": {
      "text/plain": [
       "array(['5995', '5495', '6995', '4995', '9995', '18995', '12995', '15995',\n",
       "       '13995', '14995', '10995', '8995', '17995', '4595', '4495', '6495',\n",
       "       '4795', '4695', '4295', '3995', '7995', '3895', '11995', '4895',\n",
       "       '5295', '3295', '3795', '5695', '4195', '16995', '8999.00',\n",
       "       '4499.50', '10999.00', '11999.00', '2999.00', '1499.50', '5499.50',\n",
       "       '3999.00', '2399.50', '4299.00', '2579.50', '9999.00', '4999.50',\n",
       "       '4999.00', '2499.50', '6999.00', '4199.50', '12999.00', '5200.00',\n",
       "       '2299.00', '920.00', '4599.00', '3449.50', '1799.50', '13999.00',\n",
       "       '10499.50', '5599.00', '3919.50', '5999.00', '2999.50', '6599.50',\n",
       "       '1999.00', '3359.50', '15999.00', '9599.50', '7999.00', '4799.50',\n",
       "       '5999.50', '17999.00', '13499.50', '2099.50', '6599.00', '3299.50',\n",
       "       '7199.50', '3599.00', '1720.00', '21999.00', '2799.50', '3959.50',\n",
       "       '2159.50', '4799.00', '7699.50', '8399.50', '3599.50', '19999.00',\n",
       "       '11999.50', '18999.00', '11399.50', '5299.00', '3179.50',\n",
       "       '14999.00', '9749.50', '69999.00', '64999.00', '22999.00',\n",
       "       '24999.00', '49999.00', '39999.00', '37999.00', '9799.50',\n",
       "       '34999.00', '29999.00', '4949.50', '27999.00', '13299.50',\n",
       "       '2759.50', '6999.50', '5249.50', '12599.50', '8999.50', '3799.00',\n",
       "       '2849.50', '8599.00', '10799.50', '11199.50', '16999.00',\n",
       "       '7599.00', '6299.50', '9599.00', '5319.50', '6449.50', '6749.50',\n",
       "       '5599.50', '3499.50', '12749.50', '11049.50', '1799.00', '1259.50',\n",
       "       '13999.50', '1499.00', '1049.50', '2659.50', '11249.50', '2299.50',\n",
       "       '4899.50', '8249.50', '3299.00', '1399.50', '2519.50', '9099.50',\n",
       "       '6499.50', '999.00', '699.50', '1599.00', '11899.50', '1349.50',\n",
       "       '7200.00', '7799.50', '10999.50', '4559.50', '2799.00', '26999.00',\n",
       "       '2499.00', '6299.00', '2699.00', '9599', '3599', '3569', '4799',\n",
       "       '4499', '5399', '3759', '3999', '5999', '2019', '2999', '2249',\n",
       "       '2159', '6499', '3849', '3119', '4229', '4049', '4999', '2339',\n",
       "       '3299', '6599', '3289', '3709', '5249', '3639', '4899', '5949',\n",
       "       '5359', '3499', '9099', '7199', '2879', '2149', '4199', '4459',\n",
       "       '4949', '2749', '4119', '3149', '2109', '2499', '6399', '3249',\n",
       "       '6749', '6299', '3749', '7999', '4769', '3899', '5169', '3769',\n",
       "       '3839', '5499', '5599', '6999', '5619', '4319', '4399', '4019',\n",
       "       '3519', '2399', '1999', '3969', '1719', '2699', '3049', '2899',\n",
       "       '2079', '2819', '2319', '2199', '1949', '2099', '4689', '8999',\n",
       "       '11399', '11999', '14999', '1749', '1919', '8799', '9349', '13599',\n",
       "       '11199', '2859', '10399', '2469', '2119', '2579', '8399', '10799',\n",
       "       '12799', '10999', '19999', '12599', '5219', '4639', '7799',\n",
       "       '11249', '9999', '16999', '4869', '3009', '3019', '1249', '1169',\n",
       "       '1799', '1369', '1559', '1299', '1679', '1499', '1539', '1669',\n",
       "       '1199', '549', '649', '849', '1099', '899', '1039', '639', '1699',\n",
       "       '499', '1599', '529', '969', '519', '599', '949', '1149', '629',\n",
       "       '2639', '1159', '989', '3799', '12999', '2239', '2799', '1879',\n",
       "       '4699', '1929', '3369', '4679', '3439', '3359', '2599', '3399',\n",
       "       '1649', '1979', '1809', '1479', '1409', '1449', '1019', '1189',\n",
       "       '1119', '7149', '4159', '5089', '8499', '29999', '5459', '5209',\n",
       "       '5199', '4909', '5279', '4239', '2559', '4659', '5719', '6109',\n",
       "       '5759', '9749', 'NaN', '1349', '479', '469', '5849', '11899',\n",
       "       '5519', '13999', '6369', '6049', '1079', '2539', '2059', '1849',\n",
       "       '2009', '1049', '2349', '1259', '1399', '4249', '34999', '11699',\n",
       "       '7499', '2359', '19199', '929', '2789', '1819', '559', '5099',\n",
       "       '1029', '999', '2229', '14399', '3419', '1489', '2919', '4549',\n",
       "       '1639', '15999', '3189', '5799', '10199', '3199', '1909', '7495',\n",
       "       '9695', '12795', '10295', '7195', '10795', '6795', '11895',\n",
       "       '19295', '11495', '15295', '9195', '18395', '8695', '17595',\n",
       "       '3695', '9295', '8295', '22795', '12295', '20695', '8195', '13295',\n",
       "       '2195', '3195', '8495', '11595', '18195', '8595', '19495', '26995',\n",
       "       '6295', '14195', '7095', '1695', '25095', '25995', '17295',\n",
       "       '13495', '17495', '8895', '16595', '27995', '2495', '2095', '2995',\n",
       "       '20995', '1995', '21295', '72.00', '40.00', '105.00', '55.00',\n",
       "       '82.46', '75.00', '74.96', '42.00', '59.96', '67.46', '67.50',\n",
       "       '45.00', '90.00', '120.00', '48.75', '82.50', '89.96', '127.50',\n",
       "       '97.50', '66.00', nan, '52.50', '60.00', '84.00', '52.46', '80.00',\n",
       "       '74.00', '37.50', '98.00'], dtype=object)"
      ]
     },
     "execution_count": 27,
     "metadata": {},
     "output_type": "execute_result"
    }
   ],
   "source": [
    "df['Price'] = df['Price'].str.replace('-', 'NaN')\n",
    "df['Price'] = df['Price'].str.replace('$', '')\n",
    "df['Price'] = df['Price'].str.replace('₹', '')\n",
    "df['Price'] = df['Price'].str.replace(' ', '')\n",
    "df['Price'] = df['Price'].str.replace(',', '')\n",
    "df['Price'].unique()"
   ]
  },
  {
   "cell_type": "code",
   "execution_count": 28,
   "id": "675a66d6",
   "metadata": {},
   "outputs": [],
   "source": [
    "df['Price'] = df['Price'].astype(str).astype(float)"
   ]
  },
  {
   "cell_type": "code",
   "execution_count": 29,
   "id": "461b8f07",
   "metadata": {
    "scrolled": true
   },
   "outputs": [
    {
     "data": {
      "text/html": [
       "<div>\n",
       "<style scoped>\n",
       "    .dataframe tbody tr th:only-of-type {\n",
       "        vertical-align: middle;\n",
       "    }\n",
       "\n",
       "    .dataframe tbody tr th {\n",
       "        vertical-align: top;\n",
       "    }\n",
       "\n",
       "    .dataframe thead th {\n",
       "        text-align: right;\n",
       "    }\n",
       "</style>\n",
       "<table border=\"1\" class=\"dataframe\">\n",
       "  <thead>\n",
       "    <tr style=\"text-align: right;\">\n",
       "      <th></th>\n",
       "      <th>Name</th>\n",
       "      <th>No. of colors</th>\n",
       "      <th>Category</th>\n",
       "      <th>Price</th>\n",
       "      <th>Colour 1</th>\n",
       "      <th>Colour 2</th>\n",
       "      <th>Colour 3</th>\n",
       "      <th>Colour 4</th>\n",
       "      <th>Colour 5</th>\n",
       "      <th>Product Code</th>\n",
       "      <th>No. of sizes</th>\n",
       "      <th>Unnamed: 0</th>\n",
       "      <th>Reviews</th>\n",
       "      <th>Size</th>\n",
       "      <th>comfort</th>\n",
       "      <th>durability /quality/performance(quantification)</th>\n",
       "      <th>Star Rating</th>\n",
       "    </tr>\n",
       "  </thead>\n",
       "  <tbody>\n",
       "    <tr>\n",
       "      <th>0</th>\n",
       "      <td>Bright Grey Boots for Women</td>\n",
       "      <td>4.0</td>\n",
       "      <td>Women</td>\n",
       "      <td>5995.0</td>\n",
       "      <td>BRIGHT GREY</td>\n",
       "      <td>SANDY BEIGE</td>\n",
       "      <td>LSNAYPE</td>\n",
       "      <td>CANVAS GREEN</td>\n",
       "      <td>-</td>\n",
       "      <td>FLC0AX037821S</td>\n",
       "      <td>7.0</td>\n",
       "      <td>0.0</td>\n",
       "      <td>NaN</td>\n",
       "      <td>35</td>\n",
       "      <td>-</td>\n",
       "      <td>-</td>\n",
       "      <td>-</td>\n",
       "    </tr>\n",
       "    <tr>\n",
       "      <th>1</th>\n",
       "      <td>Brown Boot for Women</td>\n",
       "      <td>3.0</td>\n",
       "      <td>Women</td>\n",
       "      <td>5495.0</td>\n",
       "      <td>BROWN</td>\n",
       "      <td>LGREY</td>\n",
       "      <td>KHAKI</td>\n",
       "      <td>-</td>\n",
       "      <td>-</td>\n",
       "      <td>FLC015044231A</td>\n",
       "      <td>7.0</td>\n",
       "      <td>1.0</td>\n",
       "      <td>NaN</td>\n",
       "      <td>35</td>\n",
       "      <td>-</td>\n",
       "      <td>-</td>\n",
       "      <td>-</td>\n",
       "    </tr>\n",
       "    <tr>\n",
       "      <th>2</th>\n",
       "      <td>DROYAL BLUE boots for women</td>\n",
       "      <td>3.0</td>\n",
       "      <td>Women</td>\n",
       "      <td>5495.0</td>\n",
       "      <td>DROYAL BLUE</td>\n",
       "      <td>OLIVE GREEN</td>\n",
       "      <td>KHAKI</td>\n",
       "      <td>-</td>\n",
       "      <td>-</td>\n",
       "      <td>FLC0H9033561A</td>\n",
       "      <td>7.0</td>\n",
       "      <td>2.0</td>\n",
       "      <td>NaN</td>\n",
       "      <td>35</td>\n",
       "      <td>-</td>\n",
       "      <td>-</td>\n",
       "      <td>-</td>\n",
       "    </tr>\n",
       "    <tr>\n",
       "      <th>3</th>\n",
       "      <td>Beige boot for men</td>\n",
       "      <td>2.0</td>\n",
       "      <td>Women</td>\n",
       "      <td>6995.0</td>\n",
       "      <td>BEIGE</td>\n",
       "      <td>CAMEL</td>\n",
       "      <td>-</td>\n",
       "      <td>-</td>\n",
       "      <td>-</td>\n",
       "      <td>FLC0510AR852A</td>\n",
       "      <td>9.0</td>\n",
       "      <td>3.0</td>\n",
       "      <td>NaN</td>\n",
       "      <td>35</td>\n",
       "      <td>-</td>\n",
       "      <td>-</td>\n",
       "      <td>-</td>\n",
       "    </tr>\n",
       "    <tr>\n",
       "      <th>4</th>\n",
       "      <td>Woodland Rusty red boots for women</td>\n",
       "      <td>3.0</td>\n",
       "      <td>Women</td>\n",
       "      <td>5495.0</td>\n",
       "      <td>RUSTY RED</td>\n",
       "      <td>DNAVY</td>\n",
       "      <td>SNAYPE</td>\n",
       "      <td>-</td>\n",
       "      <td>-</td>\n",
       "      <td>FLC015022491A</td>\n",
       "      <td>7.0</td>\n",
       "      <td>4.0</td>\n",
       "      <td>NaN</td>\n",
       "      <td>35</td>\n",
       "      <td>-</td>\n",
       "      <td>-</td>\n",
       "      <td>-</td>\n",
       "    </tr>\n",
       "    <tr>\n",
       "      <th>...</th>\n",
       "      <td>...</td>\n",
       "      <td>...</td>\n",
       "      <td>...</td>\n",
       "      <td>...</td>\n",
       "      <td>...</td>\n",
       "      <td>...</td>\n",
       "      <td>...</td>\n",
       "      <td>...</td>\n",
       "      <td>...</td>\n",
       "      <td>...</td>\n",
       "      <td>...</td>\n",
       "      <td>...</td>\n",
       "      <td>...</td>\n",
       "      <td>...</td>\n",
       "      <td>...</td>\n",
       "      <td>...</td>\n",
       "      <td>...</td>\n",
       "    </tr>\n",
       "    <tr>\n",
       "      <th>5643</th>\n",
       "      <td>Men's Bugaboot™ Celsius Plus Boot</td>\n",
       "      <td>2.0</td>\n",
       "      <td>Women</td>\n",
       "      <td>37.5</td>\n",
       "      <td>BROWN</td>\n",
       "      <td>-</td>\n",
       "      <td>-</td>\n",
       "      <td>-</td>\n",
       "      <td>-</td>\n",
       "      <td>FGC018146782A</td>\n",
       "      <td>7.0</td>\n",
       "      <td>809.0</td>\n",
       "      <td>3.0</td>\n",
       "      <td>Perfect</td>\n",
       "      <td>Comfortable</td>\n",
       "      <td>Average</td>\n",
       "      <td>4.3</td>\n",
       "    </tr>\n",
       "    <tr>\n",
       "      <th>5644</th>\n",
       "      <td>Men's Plateau™ Waterproof Shoe</td>\n",
       "      <td>3.0</td>\n",
       "      <td>Women</td>\n",
       "      <td>84.0</td>\n",
       "      <td>DBROWN</td>\n",
       "      <td>-</td>\n",
       "      <td>-</td>\n",
       "      <td>-</td>\n",
       "      <td>-</td>\n",
       "      <td>FGC0150S6852A</td>\n",
       "      <td>7.0</td>\n",
       "      <td>810.0</td>\n",
       "      <td>29.0</td>\n",
       "      <td>Perfect</td>\n",
       "      <td>Uncomfortable</td>\n",
       "      <td>Average</td>\n",
       "      <td>4.9</td>\n",
       "    </tr>\n",
       "    <tr>\n",
       "      <th>5645</th>\n",
       "      <td>Men's Facet™ Sierra OutDry™ Boot</td>\n",
       "      <td>2.0</td>\n",
       "      <td>Women</td>\n",
       "      <td>98.0</td>\n",
       "      <td>KHAKI</td>\n",
       "      <td>-</td>\n",
       "      <td>-</td>\n",
       "      <td>-</td>\n",
       "      <td>-</td>\n",
       "      <td>FGC0L5019811A</td>\n",
       "      <td>7.0</td>\n",
       "      <td>811.0</td>\n",
       "      <td>41.0</td>\n",
       "      <td>Perfect</td>\n",
       "      <td>Comfortable</td>\n",
       "      <td>Average</td>\n",
       "      <td>4.9</td>\n",
       "    </tr>\n",
       "    <tr>\n",
       "      <th>5646</th>\n",
       "      <td>Men's Trailstorm™ Peak Mid Shoe</td>\n",
       "      <td>2.0</td>\n",
       "      <td>Women</td>\n",
       "      <td>60.0</td>\n",
       "      <td>BROWN</td>\n",
       "      <td>-</td>\n",
       "      <td>-</td>\n",
       "      <td>-</td>\n",
       "      <td>-</td>\n",
       "      <td>FGC0150S6872A</td>\n",
       "      <td>7.0</td>\n",
       "      <td>812.0</td>\n",
       "      <td>25.0</td>\n",
       "      <td>Perfect</td>\n",
       "      <td>Comfortable</td>\n",
       "      <td>Average</td>\n",
       "      <td>5.0</td>\n",
       "    </tr>\n",
       "    <tr>\n",
       "      <th>5647</th>\n",
       "      <td>Men's Crestwood™ Hiking Shoe – Wide</td>\n",
       "      <td>3.0</td>\n",
       "      <td>Women</td>\n",
       "      <td>97.5</td>\n",
       "      <td>CAMEL</td>\n",
       "      <td>KHAKI</td>\n",
       "      <td>-</td>\n",
       "      <td>-</td>\n",
       "      <td>-</td>\n",
       "      <td>FGC0H9027811A</td>\n",
       "      <td>7.0</td>\n",
       "      <td>813.0</td>\n",
       "      <td>7.0</td>\n",
       "      <td>Perfect</td>\n",
       "      <td>Comfortable</td>\n",
       "      <td>Average</td>\n",
       "      <td>4.5</td>\n",
       "    </tr>\n",
       "  </tbody>\n",
       "</table>\n",
       "<p>5648 rows × 17 columns</p>\n",
       "</div>"
      ],
      "text/plain": [
       "                                     Name  No. of colors Category   Price  \\\n",
       "0             Bright Grey Boots for Women            4.0    Women  5995.0   \n",
       "1                    Brown Boot for Women            3.0    Women  5495.0   \n",
       "2             DROYAL BLUE boots for women            3.0    Women  5495.0   \n",
       "3                      Beige boot for men            2.0    Women  6995.0   \n",
       "4      Woodland Rusty red boots for women            3.0    Women  5495.0   \n",
       "...                                   ...            ...      ...     ...   \n",
       "5643    Men's Bugaboot™ Celsius Plus Boot            2.0    Women    37.5   \n",
       "5644       Men's Plateau™ Waterproof Shoe            3.0    Women    84.0   \n",
       "5645     Men's Facet™ Sierra OutDry™ Boot            2.0    Women    98.0   \n",
       "5646      Men's Trailstorm™ Peak Mid Shoe            2.0    Women    60.0   \n",
       "5647  Men's Crestwood™ Hiking Shoe – Wide            3.0    Women    97.5   \n",
       "\n",
       "         Colour 1     Colour 2 Colour 3      Colour 4 Colour 5   Product Code  \\\n",
       "0     BRIGHT GREY  SANDY BEIGE  LSNAYPE  CANVAS GREEN        -  FLC0AX037821S   \n",
       "1           BROWN        LGREY    KHAKI             -        -  FLC015044231A   \n",
       "2     DROYAL BLUE  OLIVE GREEN    KHAKI             -        -  FLC0H9033561A   \n",
       "3           BEIGE        CAMEL        -             -        -  FLC0510AR852A   \n",
       "4       RUSTY RED        DNAVY   SNAYPE             -        -  FLC015022491A   \n",
       "...           ...          ...      ...           ...      ...            ...   \n",
       "5643        BROWN            -        -             -        -  FGC018146782A   \n",
       "5644       DBROWN            -        -             -        -  FGC0150S6852A   \n",
       "5645        KHAKI            -        -             -        -  FGC0L5019811A   \n",
       "5646        BROWN            -        -             -        -  FGC0150S6872A   \n",
       "5647        CAMEL        KHAKI        -             -        -  FGC0H9027811A   \n",
       "\n",
       "      No. of sizes  Unnamed: 0  Reviews     Size        comfort  \\\n",
       "0              7.0         0.0      NaN       35              -   \n",
       "1              7.0         1.0      NaN       35              -   \n",
       "2              7.0         2.0      NaN       35              -   \n",
       "3              9.0         3.0      NaN       35              -   \n",
       "4              7.0         4.0      NaN       35              -   \n",
       "...            ...         ...      ...      ...            ...   \n",
       "5643           7.0       809.0      3.0  Perfect    Comfortable   \n",
       "5644           7.0       810.0     29.0  Perfect  Uncomfortable   \n",
       "5645           7.0       811.0     41.0  Perfect    Comfortable   \n",
       "5646           7.0       812.0     25.0  Perfect    Comfortable   \n",
       "5647           7.0       813.0      7.0  Perfect    Comfortable   \n",
       "\n",
       "     durability /quality/performance(quantification) Star Rating  \n",
       "0                                                  -           -  \n",
       "1                                                  -           -  \n",
       "2                                                  -           -  \n",
       "3                                                  -           -  \n",
       "4                                                  -           -  \n",
       "...                                              ...         ...  \n",
       "5643                                         Average         4.3  \n",
       "5644                                         Average         4.9  \n",
       "5645                                         Average         4.9  \n",
       "5646                                         Average         5.0  \n",
       "5647                                         Average         4.5  \n",
       "\n",
       "[5648 rows x 17 columns]"
      ]
     },
     "execution_count": 29,
     "metadata": {},
     "output_type": "execute_result"
    }
   ],
   "source": [
    "df"
   ]
  },
  {
   "cell_type": "code",
   "execution_count": 30,
   "id": "a5fb5c09",
   "metadata": {},
   "outputs": [
    {
     "data": {
      "text/plain": [
       "Name                                                object\n",
       "No. of colors                                      float64\n",
       "Category                                            object\n",
       "Price                                              float64\n",
       "Colour 1                                            object\n",
       "Colour 2                                            object\n",
       "Colour 3                                            object\n",
       "Colour 4                                            object\n",
       "Colour 5                                            object\n",
       "Product Code                                        object\n",
       "No. of sizes                                       float64\n",
       "Unnamed: 0                                         float64\n",
       "Reviews                                            float64\n",
       "Size                                                object\n",
       "comfort                                             object\n",
       "durability /quality/performance(quantification)     object\n",
       "Star Rating                                         object\n",
       "dtype: object"
      ]
     },
     "execution_count": 30,
     "metadata": {},
     "output_type": "execute_result"
    }
   ],
   "source": [
    "df.dtypes"
   ]
  },
  {
   "cell_type": "markdown",
   "id": "6092775e",
   "metadata": {},
   "source": [
    "Now we can see there are two types of data types (float64 in 6 columns) and(object in other columns)"
   ]
  },
  {
   "cell_type": "code",
   "execution_count": 31,
   "id": "f048de16",
   "metadata": {},
   "outputs": [
    {
     "data": {
      "text/plain": [
       "array(['35', '39', '37', 'Perfect', 'Large', '-', 'Small'], dtype=object)"
      ]
     },
     "execution_count": 31,
     "metadata": {},
     "output_type": "execute_result"
    }
   ],
   "source": [
    "df['Size'].unique()"
   ]
  },
  {
   "cell_type": "code",
   "execution_count": 32,
   "id": "881d41c1",
   "metadata": {},
   "outputs": [],
   "source": [
    "df['Size'] = df['Size'].replace(['35','39','37','-'], ['Small','Large','Perfect','Nan'])"
   ]
  },
  {
   "cell_type": "code",
   "execution_count": 33,
   "id": "da297f9e",
   "metadata": {
    "scrolled": true
   },
   "outputs": [
    {
     "data": {
      "text/plain": [
       "array(['-', 'Comfortable', 'Average', 'Uncomfortable'], dtype=object)"
      ]
     },
     "execution_count": 33,
     "metadata": {},
     "output_type": "execute_result"
    }
   ],
   "source": [
    "df['comfort'].unique()"
   ]
  },
  {
   "cell_type": "code",
   "execution_count": 34,
   "id": "6a6f10dd",
   "metadata": {},
   "outputs": [],
   "source": [
    "df['comfort'] = df['Size'].replace(['-'], ['Nan'])"
   ]
  },
  {
   "cell_type": "markdown",
   "id": "20353154",
   "metadata": {},
   "source": [
    "We can see there are many null values in 'No. of colors', 'No of sizes'"
   ]
  },
  {
   "cell_type": "code",
   "execution_count": 35,
   "id": "277f9e76",
   "metadata": {},
   "outputs": [
    {
     "data": {
      "text/plain": [
       "array(['-', 'Perfect', 'Poor', 'Average'], dtype=object)"
      ]
     },
     "execution_count": 35,
     "metadata": {},
     "output_type": "execute_result"
    }
   ],
   "source": [
    "df['durability /quality/performance(quantification)'].unique()"
   ]
  },
  {
   "cell_type": "code",
   "execution_count": 36,
   "id": "0a6e6f6c",
   "metadata": {},
   "outputs": [],
   "source": [
    "df['durability /quality/performance(quantification)'] = df['durability /quality/performance(quantification)'].replace(['-'], ['Nan'])"
   ]
  },
  {
   "cell_type": "code",
   "execution_count": 37,
   "id": "9b991cd4",
   "metadata": {},
   "outputs": [
    {
     "data": {
      "text/plain": [
       "array(['-', '4.8', '4.6', '4.4', '4.5', '4.7', '5.0', '4.1', '3.7', '4.2',\n",
       "       '4.3', '4.0', '3.8', '3.0', '3.6', '4.9', '3.4', '3.3', '2.5',\n",
       "       '3.9', '1.8', '2.3', '3.1', '2.0', '3.5', '1.0', '1.3', '3.2'],\n",
       "      dtype=object)"
      ]
     },
     "execution_count": 37,
     "metadata": {},
     "output_type": "execute_result"
    }
   ],
   "source": [
    "df['Star Rating'].unique()"
   ]
  },
  {
   "cell_type": "code",
   "execution_count": 38,
   "id": "5d3e275d",
   "metadata": {},
   "outputs": [],
   "source": [
    "df['Star Rating'] = df['Star Rating'].replace(['-'], ['Nan'])"
   ]
  },
  {
   "cell_type": "code",
   "execution_count": 39,
   "id": "03c33dbe",
   "metadata": {},
   "outputs": [],
   "source": [
    "df['Star Rating'] = df['Star Rating'].astype(str).astype(float)"
   ]
  },
  {
   "cell_type": "code",
   "execution_count": 40,
   "id": "74127f3c",
   "metadata": {},
   "outputs": [
    {
     "data": {
      "text/plain": [
       "array(['Women', 'Men', \"Men's Shoes\", \"Women's Shoes\", \"Men's shoes\",\n",
       "       \"Women's shoes\", \"Men's Shoe\", 'Shoe',\n",
       "       \"Women's Waterproof Trail-Running Shoes\", 'Custom Shoes',\n",
       "       'Basketball Shoes', \"Men's Workout Shoes\",\n",
       "       \"Custom Men's Road Running Shoes\", 'Athletics Multi-Event Spikes',\n",
       "       \"Men's Walking Shoes\", 'Shoes', 'Easy On/Off Shoes',\n",
       "       \"Women's Road Running Shoes\", 'Athletics Sprinting Spikes',\n",
       "       'Multi-Ground Low-Top Football Boot', \"Men's Road Running Shoes\",\n",
       "       \"Men's Road Racing Shoes\", 'Custom Firm-Ground Football Boot',\n",
       "       'Multi-Ground High-Top Football Boot', \"Women's Shoe\",\n",
       "       \"Men's Slides\", 'Turf High-Top Football Shoes',\n",
       "       'MG High-Top Football Boot', 'Custom Basketball Shoes',\n",
       "       'TF Low-Top Football Shoes', \"Women's Workout Shoes\",\n",
       "       \"Women's Trail-Running Shoes\", \"Custom Men's Shoe\", 'Skate Shoes',\n",
       "       \"Women's Slides\", \"Custom Women's Shoes\",\n",
       "       \"Men's Road Running Shoes (Extra Wide)\", 'Golf Shoes (Wide)',\n",
       "       \"Women's Road Racing Shoes\", \"Custom Women's Road Running Shoes\",\n",
       "       \"Women's Training Shoes\", 'Indoor Court Low-Top Football Shoes',\n",
       "       '-', \"Custom Men's Shoes\", \"Men's Weatherised Road Running Shoes\",\n",
       "       \"Women's Shower Slide\", 'Custom Multi-Ground Football Boot',\n",
       "       \"Custom Women's Shoe\", \"Men's Waterproof Trail-Running Shoes\",\n",
       "       'FG High-Top Football Boot', \"Men's Basketball Shoe\",\n",
       "       'Custom Football Boot', \"Custom Men's Workout Shoes\",\n",
       "       \"Men's Golf Shoes\", \"Men's Hard Court Tennis Shoes\",\n",
       "       \"Women's Mules\", 'Custom Waterproof Trail-Running Shoes',\n",
       "       'Golf Shoes', \"Men's Tennis Shoes\", 'Turf Low-Top Football Shoes',\n",
       "       \"Custom Men's Trail-Running Shoes\", \"Women's Custom Shoes\",\n",
       "       \"Custom Women's Workout Shoes\", \"Men's Custom Shoes\",\n",
       "       \"Men's Golf Shoe (Wide)\", \"Women's Waterproof Road Running Shoes\",\n",
       "       'Road Racing Shoes', 'Turf Football Shoes',\n",
       "       \"Women's Hard Court Tennis Shoes\",\n",
       "       \"Women's Road Running Shoes (Wide)\", \"Women's Sandals (22–29cm)\",\n",
       "       \"Custom Women's Easy On/Off Road Running Shoes\",\n",
       "       'Artificial-Grass Football Boots', \"Men's Basketball Shoes\",\n",
       "       \"Men's Mules\", \"Women's Walking Shoes\",\n",
       "       'Firm-Ground Low-Top Football Boot',\n",
       "       \"Custom Women's Trail-Running Shoes\", \"Men's Training Shoe\",\n",
       "       \"Custom Women's Firm-Ground Football Boot\", \"Women's Flip-Flops\",\n",
       "       'Skate Shoe', 'Hard-Ground Low-Top Football Boot',\n",
       "       \"Custom Men's Easy On/Off Road Running Shoes\", \"Women's Slippers\"],\n",
       "      dtype=object)"
      ]
     },
     "execution_count": 40,
     "metadata": {},
     "output_type": "execute_result"
    }
   ],
   "source": [
    "df['Category'].unique()"
   ]
  },
  {
   "cell_type": "code",
   "execution_count": 41,
   "id": "51a835d7",
   "metadata": {},
   "outputs": [],
   "source": [
    "a=df['Category']"
   ]
  },
  {
   "cell_type": "code",
   "execution_count": 67,
   "id": "94185001",
   "metadata": {},
   "outputs": [],
   "source": [
    "c=[]\n",
    "for i in a:\n",
    "    b=(re.findall('(Me.)',i)) or (re.findall('(Wom..)',i))\n",
    "    for i in b:\n",
    "        c.append(i)"
   ]
  },
  {
   "cell_type": "code",
   "execution_count": 68,
   "id": "a86e919e",
   "metadata": {},
   "outputs": [],
   "source": [
    "for i in a:\n",
    "    b=(re.findall('(Me.)',i)) or (re.findall('(Wom..)',i))\n",
    "    for i in b:\n",
    "        c.append(i)"
   ]
  },
  {
   "cell_type": "code",
   "execution_count": 69,
   "id": "9b749e65",
   "metadata": {},
   "outputs": [
    {
     "ename": "KeyError",
     "evalue": "\"['Category'] not found in axis\"",
     "output_type": "error",
     "traceback": [
      "\u001b[1;31m---------------------------------------------------------------------------\u001b[0m",
      "\u001b[1;31mKeyError\u001b[0m                                  Traceback (most recent call last)",
      "\u001b[1;32m~\\AppData\\Local\\Temp\\ipykernel_3524\\43713323.py\u001b[0m in \u001b[0;36m<module>\u001b[1;34m\u001b[0m\n\u001b[1;32m----> 1\u001b[1;33m \u001b[0mdf\u001b[0m\u001b[1;33m=\u001b[0m\u001b[0mdf\u001b[0m\u001b[1;33m.\u001b[0m\u001b[0mdrop\u001b[0m\u001b[1;33m(\u001b[0m\u001b[1;33m[\u001b[0m\u001b[1;34m'Category'\u001b[0m\u001b[1;33m]\u001b[0m\u001b[1;33m,\u001b[0m\u001b[0maxis\u001b[0m\u001b[1;33m=\u001b[0m\u001b[1;36m1\u001b[0m\u001b[1;33m)\u001b[0m\u001b[1;33m\u001b[0m\u001b[1;33m\u001b[0m\u001b[0m\n\u001b[0m",
      "\u001b[1;32m~\\anaconda3\\lib\\site-packages\\pandas\\util\\_decorators.py\u001b[0m in \u001b[0;36mwrapper\u001b[1;34m(*args, **kwargs)\u001b[0m\n\u001b[0;32m    309\u001b[0m                     \u001b[0mstacklevel\u001b[0m\u001b[1;33m=\u001b[0m\u001b[0mstacklevel\u001b[0m\u001b[1;33m,\u001b[0m\u001b[1;33m\u001b[0m\u001b[1;33m\u001b[0m\u001b[0m\n\u001b[0;32m    310\u001b[0m                 )\n\u001b[1;32m--> 311\u001b[1;33m             \u001b[1;32mreturn\u001b[0m \u001b[0mfunc\u001b[0m\u001b[1;33m(\u001b[0m\u001b[1;33m*\u001b[0m\u001b[0margs\u001b[0m\u001b[1;33m,\u001b[0m \u001b[1;33m**\u001b[0m\u001b[0mkwargs\u001b[0m\u001b[1;33m)\u001b[0m\u001b[1;33m\u001b[0m\u001b[1;33m\u001b[0m\u001b[0m\n\u001b[0m\u001b[0;32m    312\u001b[0m \u001b[1;33m\u001b[0m\u001b[0m\n\u001b[0;32m    313\u001b[0m         \u001b[1;32mreturn\u001b[0m \u001b[0mwrapper\u001b[0m\u001b[1;33m\u001b[0m\u001b[1;33m\u001b[0m\u001b[0m\n",
      "\u001b[1;32m~\\anaconda3\\lib\\site-packages\\pandas\\core\\frame.py\u001b[0m in \u001b[0;36mdrop\u001b[1;34m(self, labels, axis, index, columns, level, inplace, errors)\u001b[0m\n\u001b[0;32m   4955\u001b[0m                 \u001b[0mweight\u001b[0m  \u001b[1;36m1.0\u001b[0m     \u001b[1;36m0.8\u001b[0m\u001b[1;33m\u001b[0m\u001b[1;33m\u001b[0m\u001b[0m\n\u001b[0;32m   4956\u001b[0m         \"\"\"\n\u001b[1;32m-> 4957\u001b[1;33m         return super().drop(\n\u001b[0m\u001b[0;32m   4958\u001b[0m             \u001b[0mlabels\u001b[0m\u001b[1;33m=\u001b[0m\u001b[0mlabels\u001b[0m\u001b[1;33m,\u001b[0m\u001b[1;33m\u001b[0m\u001b[1;33m\u001b[0m\u001b[0m\n\u001b[0;32m   4959\u001b[0m             \u001b[0maxis\u001b[0m\u001b[1;33m=\u001b[0m\u001b[0maxis\u001b[0m\u001b[1;33m,\u001b[0m\u001b[1;33m\u001b[0m\u001b[1;33m\u001b[0m\u001b[0m\n",
      "\u001b[1;32m~\\anaconda3\\lib\\site-packages\\pandas\\core\\generic.py\u001b[0m in \u001b[0;36mdrop\u001b[1;34m(self, labels, axis, index, columns, level, inplace, errors)\u001b[0m\n\u001b[0;32m   4265\u001b[0m         \u001b[1;32mfor\u001b[0m \u001b[0maxis\u001b[0m\u001b[1;33m,\u001b[0m \u001b[0mlabels\u001b[0m \u001b[1;32min\u001b[0m \u001b[0maxes\u001b[0m\u001b[1;33m.\u001b[0m\u001b[0mitems\u001b[0m\u001b[1;33m(\u001b[0m\u001b[1;33m)\u001b[0m\u001b[1;33m:\u001b[0m\u001b[1;33m\u001b[0m\u001b[1;33m\u001b[0m\u001b[0m\n\u001b[0;32m   4266\u001b[0m             \u001b[1;32mif\u001b[0m \u001b[0mlabels\u001b[0m \u001b[1;32mis\u001b[0m \u001b[1;32mnot\u001b[0m \u001b[1;32mNone\u001b[0m\u001b[1;33m:\u001b[0m\u001b[1;33m\u001b[0m\u001b[1;33m\u001b[0m\u001b[0m\n\u001b[1;32m-> 4267\u001b[1;33m                 \u001b[0mobj\u001b[0m \u001b[1;33m=\u001b[0m \u001b[0mobj\u001b[0m\u001b[1;33m.\u001b[0m\u001b[0m_drop_axis\u001b[0m\u001b[1;33m(\u001b[0m\u001b[0mlabels\u001b[0m\u001b[1;33m,\u001b[0m \u001b[0maxis\u001b[0m\u001b[1;33m,\u001b[0m \u001b[0mlevel\u001b[0m\u001b[1;33m=\u001b[0m\u001b[0mlevel\u001b[0m\u001b[1;33m,\u001b[0m \u001b[0merrors\u001b[0m\u001b[1;33m=\u001b[0m\u001b[0merrors\u001b[0m\u001b[1;33m)\u001b[0m\u001b[1;33m\u001b[0m\u001b[1;33m\u001b[0m\u001b[0m\n\u001b[0m\u001b[0;32m   4268\u001b[0m \u001b[1;33m\u001b[0m\u001b[0m\n\u001b[0;32m   4269\u001b[0m         \u001b[1;32mif\u001b[0m \u001b[0minplace\u001b[0m\u001b[1;33m:\u001b[0m\u001b[1;33m\u001b[0m\u001b[1;33m\u001b[0m\u001b[0m\n",
      "\u001b[1;32m~\\anaconda3\\lib\\site-packages\\pandas\\core\\generic.py\u001b[0m in \u001b[0;36m_drop_axis\u001b[1;34m(self, labels, axis, level, errors, consolidate, only_slice)\u001b[0m\n\u001b[0;32m   4309\u001b[0m                 \u001b[0mnew_axis\u001b[0m \u001b[1;33m=\u001b[0m \u001b[0maxis\u001b[0m\u001b[1;33m.\u001b[0m\u001b[0mdrop\u001b[0m\u001b[1;33m(\u001b[0m\u001b[0mlabels\u001b[0m\u001b[1;33m,\u001b[0m \u001b[0mlevel\u001b[0m\u001b[1;33m=\u001b[0m\u001b[0mlevel\u001b[0m\u001b[1;33m,\u001b[0m \u001b[0merrors\u001b[0m\u001b[1;33m=\u001b[0m\u001b[0merrors\u001b[0m\u001b[1;33m)\u001b[0m\u001b[1;33m\u001b[0m\u001b[1;33m\u001b[0m\u001b[0m\n\u001b[0;32m   4310\u001b[0m             \u001b[1;32melse\u001b[0m\u001b[1;33m:\u001b[0m\u001b[1;33m\u001b[0m\u001b[1;33m\u001b[0m\u001b[0m\n\u001b[1;32m-> 4311\u001b[1;33m                 \u001b[0mnew_axis\u001b[0m \u001b[1;33m=\u001b[0m \u001b[0maxis\u001b[0m\u001b[1;33m.\u001b[0m\u001b[0mdrop\u001b[0m\u001b[1;33m(\u001b[0m\u001b[0mlabels\u001b[0m\u001b[1;33m,\u001b[0m \u001b[0merrors\u001b[0m\u001b[1;33m=\u001b[0m\u001b[0merrors\u001b[0m\u001b[1;33m)\u001b[0m\u001b[1;33m\u001b[0m\u001b[1;33m\u001b[0m\u001b[0m\n\u001b[0m\u001b[0;32m   4312\u001b[0m             \u001b[0mindexer\u001b[0m \u001b[1;33m=\u001b[0m \u001b[0maxis\u001b[0m\u001b[1;33m.\u001b[0m\u001b[0mget_indexer\u001b[0m\u001b[1;33m(\u001b[0m\u001b[0mnew_axis\u001b[0m\u001b[1;33m)\u001b[0m\u001b[1;33m\u001b[0m\u001b[1;33m\u001b[0m\u001b[0m\n\u001b[0;32m   4313\u001b[0m \u001b[1;33m\u001b[0m\u001b[0m\n",
      "\u001b[1;32m~\\anaconda3\\lib\\site-packages\\pandas\\core\\indexes\\base.py\u001b[0m in \u001b[0;36mdrop\u001b[1;34m(self, labels, errors)\u001b[0m\n\u001b[0;32m   6659\u001b[0m         \u001b[1;32mif\u001b[0m \u001b[0mmask\u001b[0m\u001b[1;33m.\u001b[0m\u001b[0many\u001b[0m\u001b[1;33m(\u001b[0m\u001b[1;33m)\u001b[0m\u001b[1;33m:\u001b[0m\u001b[1;33m\u001b[0m\u001b[1;33m\u001b[0m\u001b[0m\n\u001b[0;32m   6660\u001b[0m             \u001b[1;32mif\u001b[0m \u001b[0merrors\u001b[0m \u001b[1;33m!=\u001b[0m \u001b[1;34m\"ignore\"\u001b[0m\u001b[1;33m:\u001b[0m\u001b[1;33m\u001b[0m\u001b[1;33m\u001b[0m\u001b[0m\n\u001b[1;32m-> 6661\u001b[1;33m                 \u001b[1;32mraise\u001b[0m \u001b[0mKeyError\u001b[0m\u001b[1;33m(\u001b[0m\u001b[1;34mf\"{list(labels[mask])} not found in axis\"\u001b[0m\u001b[1;33m)\u001b[0m\u001b[1;33m\u001b[0m\u001b[1;33m\u001b[0m\u001b[0m\n\u001b[0m\u001b[0;32m   6662\u001b[0m             \u001b[0mindexer\u001b[0m \u001b[1;33m=\u001b[0m \u001b[0mindexer\u001b[0m\u001b[1;33m[\u001b[0m\u001b[1;33m~\u001b[0m\u001b[0mmask\u001b[0m\u001b[1;33m]\u001b[0m\u001b[1;33m\u001b[0m\u001b[1;33m\u001b[0m\u001b[0m\n\u001b[0;32m   6663\u001b[0m         \u001b[1;32mreturn\u001b[0m \u001b[0mself\u001b[0m\u001b[1;33m.\u001b[0m\u001b[0mdelete\u001b[0m\u001b[1;33m(\u001b[0m\u001b[0mindexer\u001b[0m\u001b[1;33m)\u001b[0m\u001b[1;33m\u001b[0m\u001b[1;33m\u001b[0m\u001b[0m\n",
      "\u001b[1;31mKeyError\u001b[0m: \"['Category'] not found in axis\""
     ]
    }
   ],
   "source": [
    "df=df.drop(['Category'],axis=1)"
   ]
  },
  {
   "cell_type": "code",
   "execution_count": 70,
   "id": "f88609d4",
   "metadata": {},
   "outputs": [],
   "source": [
    "df['Category']=c[0:5648]"
   ]
  },
  {
   "cell_type": "markdown",
   "id": "89510d72",
   "metadata": {},
   "source": [
    "# Exploratory Data Analysis (EDA)"
   ]
  },
  {
   "cell_type": "code",
   "execution_count": 71,
   "id": "b34b7047",
   "metadata": {
    "scrolled": true
   },
   "outputs": [
    {
     "data": {
      "text/html": [
       "<div>\n",
       "<style scoped>\n",
       "    .dataframe tbody tr th:only-of-type {\n",
       "        vertical-align: middle;\n",
       "    }\n",
       "\n",
       "    .dataframe tbody tr th {\n",
       "        vertical-align: top;\n",
       "    }\n",
       "\n",
       "    .dataframe thead th {\n",
       "        text-align: right;\n",
       "    }\n",
       "</style>\n",
       "<table border=\"1\" class=\"dataframe\">\n",
       "  <thead>\n",
       "    <tr style=\"text-align: right;\">\n",
       "      <th></th>\n",
       "      <th>Name</th>\n",
       "      <th>No. of colors</th>\n",
       "      <th>Price</th>\n",
       "      <th>Colour 1</th>\n",
       "      <th>Colour 2</th>\n",
       "      <th>Colour 3</th>\n",
       "      <th>Colour 4</th>\n",
       "      <th>Colour 5</th>\n",
       "      <th>Product Code</th>\n",
       "      <th>No. of sizes</th>\n",
       "      <th>Reviews</th>\n",
       "      <th>Size</th>\n",
       "      <th>comfort</th>\n",
       "      <th>durability /quality/performance(quantification)</th>\n",
       "      <th>Star Rating</th>\n",
       "      <th>Category</th>\n",
       "    </tr>\n",
       "  </thead>\n",
       "  <tbody>\n",
       "    <tr>\n",
       "      <th>0</th>\n",
       "      <td>Bright Grey Boots for Women</td>\n",
       "      <td>4.0</td>\n",
       "      <td>5995.0</td>\n",
       "      <td>BRIGHT GREY</td>\n",
       "      <td>SANDY BEIGE</td>\n",
       "      <td>LSNAYPE</td>\n",
       "      <td>CANVAS GREEN</td>\n",
       "      <td>-</td>\n",
       "      <td>FLC0AX037821S</td>\n",
       "      <td>7.0</td>\n",
       "      <td>NaN</td>\n",
       "      <td>1.0</td>\n",
       "      <td>1.0</td>\n",
       "      <td>NaN</td>\n",
       "      <td>NaN</td>\n",
       "      <td>Women</td>\n",
       "    </tr>\n",
       "    <tr>\n",
       "      <th>1</th>\n",
       "      <td>Brown Boot for Women</td>\n",
       "      <td>3.0</td>\n",
       "      <td>5495.0</td>\n",
       "      <td>BROWN</td>\n",
       "      <td>LGREY</td>\n",
       "      <td>KHAKI</td>\n",
       "      <td>-</td>\n",
       "      <td>-</td>\n",
       "      <td>FLC015044231A</td>\n",
       "      <td>7.0</td>\n",
       "      <td>NaN</td>\n",
       "      <td>1.0</td>\n",
       "      <td>1.0</td>\n",
       "      <td>NaN</td>\n",
       "      <td>NaN</td>\n",
       "      <td>Women</td>\n",
       "    </tr>\n",
       "    <tr>\n",
       "      <th>2</th>\n",
       "      <td>DROYAL BLUE boots for women</td>\n",
       "      <td>3.0</td>\n",
       "      <td>5495.0</td>\n",
       "      <td>DROYAL BLUE</td>\n",
       "      <td>OLIVE GREEN</td>\n",
       "      <td>KHAKI</td>\n",
       "      <td>-</td>\n",
       "      <td>-</td>\n",
       "      <td>FLC0H9033561A</td>\n",
       "      <td>7.0</td>\n",
       "      <td>NaN</td>\n",
       "      <td>1.0</td>\n",
       "      <td>1.0</td>\n",
       "      <td>NaN</td>\n",
       "      <td>NaN</td>\n",
       "      <td>Women</td>\n",
       "    </tr>\n",
       "    <tr>\n",
       "      <th>3</th>\n",
       "      <td>Beige boot for men</td>\n",
       "      <td>2.0</td>\n",
       "      <td>6995.0</td>\n",
       "      <td>BEIGE</td>\n",
       "      <td>CAMEL</td>\n",
       "      <td>-</td>\n",
       "      <td>-</td>\n",
       "      <td>-</td>\n",
       "      <td>FLC0510AR852A</td>\n",
       "      <td>9.0</td>\n",
       "      <td>NaN</td>\n",
       "      <td>1.0</td>\n",
       "      <td>1.0</td>\n",
       "      <td>NaN</td>\n",
       "      <td>NaN</td>\n",
       "      <td>Women</td>\n",
       "    </tr>\n",
       "    <tr>\n",
       "      <th>4</th>\n",
       "      <td>Woodland Rusty red boots for women</td>\n",
       "      <td>3.0</td>\n",
       "      <td>5495.0</td>\n",
       "      <td>RUSTY RED</td>\n",
       "      <td>DNAVY</td>\n",
       "      <td>SNAYPE</td>\n",
       "      <td>-</td>\n",
       "      <td>-</td>\n",
       "      <td>FLC015022491A</td>\n",
       "      <td>7.0</td>\n",
       "      <td>NaN</td>\n",
       "      <td>1.0</td>\n",
       "      <td>1.0</td>\n",
       "      <td>NaN</td>\n",
       "      <td>NaN</td>\n",
       "      <td>Women</td>\n",
       "    </tr>\n",
       "  </tbody>\n",
       "</table>\n",
       "</div>"
      ],
      "text/plain": [
       "                                 Name  No. of colors   Price     Colour 1  \\\n",
       "0         Bright Grey Boots for Women            4.0  5995.0  BRIGHT GREY   \n",
       "1                Brown Boot for Women            3.0  5495.0        BROWN   \n",
       "2         DROYAL BLUE boots for women            3.0  5495.0  DROYAL BLUE   \n",
       "3                  Beige boot for men            2.0  6995.0        BEIGE   \n",
       "4  Woodland Rusty red boots for women            3.0  5495.0    RUSTY RED   \n",
       "\n",
       "      Colour 2 Colour 3      Colour 4 Colour 5   Product Code  No. of sizes  \\\n",
       "0  SANDY BEIGE  LSNAYPE  CANVAS GREEN        -  FLC0AX037821S           7.0   \n",
       "1        LGREY    KHAKI             -        -  FLC015044231A           7.0   \n",
       "2  OLIVE GREEN    KHAKI             -        -  FLC0H9033561A           7.0   \n",
       "3        CAMEL        -             -        -  FLC0510AR852A           9.0   \n",
       "4        DNAVY   SNAYPE             -        -  FLC015022491A           7.0   \n",
       "\n",
       "   Reviews  Size  comfort  durability /quality/performance(quantification)  \\\n",
       "0      NaN   1.0      1.0                                              NaN   \n",
       "1      NaN   1.0      1.0                                              NaN   \n",
       "2      NaN   1.0      1.0                                              NaN   \n",
       "3      NaN   1.0      1.0                                              NaN   \n",
       "4      NaN   1.0      1.0                                              NaN   \n",
       "\n",
       "   Star Rating Category  \n",
       "0          NaN    Women  \n",
       "1          NaN    Women  \n",
       "2          NaN    Women  \n",
       "3          NaN    Women  \n",
       "4          NaN    Women  "
      ]
     },
     "execution_count": 71,
     "metadata": {},
     "output_type": "execute_result"
    }
   ],
   "source": [
    "df.head()"
   ]
  },
  {
   "cell_type": "code",
   "execution_count": 72,
   "id": "f53e797e",
   "metadata": {},
   "outputs": [
    {
     "data": {
      "text/html": [
       "<div>\n",
       "<style scoped>\n",
       "    .dataframe tbody tr th:only-of-type {\n",
       "        vertical-align: middle;\n",
       "    }\n",
       "\n",
       "    .dataframe tbody tr th {\n",
       "        vertical-align: top;\n",
       "    }\n",
       "\n",
       "    .dataframe thead th {\n",
       "        text-align: right;\n",
       "    }\n",
       "</style>\n",
       "<table border=\"1\" class=\"dataframe\">\n",
       "  <thead>\n",
       "    <tr style=\"text-align: right;\">\n",
       "      <th></th>\n",
       "      <th>Name</th>\n",
       "      <th>No. of colors</th>\n",
       "      <th>Price</th>\n",
       "      <th>Colour 1</th>\n",
       "      <th>Colour 2</th>\n",
       "      <th>Colour 3</th>\n",
       "      <th>Colour 4</th>\n",
       "      <th>Colour 5</th>\n",
       "      <th>Product Code</th>\n",
       "      <th>No. of sizes</th>\n",
       "      <th>Reviews</th>\n",
       "      <th>Size</th>\n",
       "      <th>comfort</th>\n",
       "      <th>durability /quality/performance(quantification)</th>\n",
       "      <th>Star Rating</th>\n",
       "      <th>Category</th>\n",
       "    </tr>\n",
       "  </thead>\n",
       "  <tbody>\n",
       "    <tr>\n",
       "      <th>5643</th>\n",
       "      <td>Men's Bugaboot™ Celsius Plus Boot</td>\n",
       "      <td>2.0</td>\n",
       "      <td>37.5</td>\n",
       "      <td>BROWN</td>\n",
       "      <td>-</td>\n",
       "      <td>-</td>\n",
       "      <td>-</td>\n",
       "      <td>-</td>\n",
       "      <td>FGC018146782A</td>\n",
       "      <td>7.0</td>\n",
       "      <td>3.0</td>\n",
       "      <td>3.0</td>\n",
       "      <td>3.0</td>\n",
       "      <td>2.0</td>\n",
       "      <td>4.3</td>\n",
       "      <td>Men</td>\n",
       "    </tr>\n",
       "    <tr>\n",
       "      <th>5644</th>\n",
       "      <td>Men's Plateau™ Waterproof Shoe</td>\n",
       "      <td>3.0</td>\n",
       "      <td>84.0</td>\n",
       "      <td>DBROWN</td>\n",
       "      <td>-</td>\n",
       "      <td>-</td>\n",
       "      <td>-</td>\n",
       "      <td>-</td>\n",
       "      <td>FGC0150S6852A</td>\n",
       "      <td>7.0</td>\n",
       "      <td>29.0</td>\n",
       "      <td>3.0</td>\n",
       "      <td>3.0</td>\n",
       "      <td>2.0</td>\n",
       "      <td>4.9</td>\n",
       "      <td>Men</td>\n",
       "    </tr>\n",
       "    <tr>\n",
       "      <th>5645</th>\n",
       "      <td>Men's Facet™ Sierra OutDry™ Boot</td>\n",
       "      <td>2.0</td>\n",
       "      <td>98.0</td>\n",
       "      <td>KHAKI</td>\n",
       "      <td>-</td>\n",
       "      <td>-</td>\n",
       "      <td>-</td>\n",
       "      <td>-</td>\n",
       "      <td>FGC0L5019811A</td>\n",
       "      <td>7.0</td>\n",
       "      <td>41.0</td>\n",
       "      <td>3.0</td>\n",
       "      <td>3.0</td>\n",
       "      <td>2.0</td>\n",
       "      <td>4.9</td>\n",
       "      <td>Men</td>\n",
       "    </tr>\n",
       "    <tr>\n",
       "      <th>5646</th>\n",
       "      <td>Men's Trailstorm™ Peak Mid Shoe</td>\n",
       "      <td>2.0</td>\n",
       "      <td>60.0</td>\n",
       "      <td>BROWN</td>\n",
       "      <td>-</td>\n",
       "      <td>-</td>\n",
       "      <td>-</td>\n",
       "      <td>-</td>\n",
       "      <td>FGC0150S6872A</td>\n",
       "      <td>7.0</td>\n",
       "      <td>25.0</td>\n",
       "      <td>3.0</td>\n",
       "      <td>3.0</td>\n",
       "      <td>2.0</td>\n",
       "      <td>5.0</td>\n",
       "      <td>Men</td>\n",
       "    </tr>\n",
       "    <tr>\n",
       "      <th>5647</th>\n",
       "      <td>Men's Crestwood™ Hiking Shoe – Wide</td>\n",
       "      <td>3.0</td>\n",
       "      <td>97.5</td>\n",
       "      <td>CAMEL</td>\n",
       "      <td>KHAKI</td>\n",
       "      <td>-</td>\n",
       "      <td>-</td>\n",
       "      <td>-</td>\n",
       "      <td>FGC0H9027811A</td>\n",
       "      <td>7.0</td>\n",
       "      <td>7.0</td>\n",
       "      <td>3.0</td>\n",
       "      <td>3.0</td>\n",
       "      <td>2.0</td>\n",
       "      <td>4.5</td>\n",
       "      <td>Women</td>\n",
       "    </tr>\n",
       "  </tbody>\n",
       "</table>\n",
       "</div>"
      ],
      "text/plain": [
       "                                     Name  No. of colors  Price Colour 1  \\\n",
       "5643    Men's Bugaboot™ Celsius Plus Boot            2.0   37.5    BROWN   \n",
       "5644       Men's Plateau™ Waterproof Shoe            3.0   84.0   DBROWN   \n",
       "5645     Men's Facet™ Sierra OutDry™ Boot            2.0   98.0    KHAKI   \n",
       "5646      Men's Trailstorm™ Peak Mid Shoe            2.0   60.0    BROWN   \n",
       "5647  Men's Crestwood™ Hiking Shoe – Wide            3.0   97.5    CAMEL   \n",
       "\n",
       "     Colour 2 Colour 3 Colour 4 Colour 5   Product Code  No. of sizes  \\\n",
       "5643        -        -        -        -  FGC018146782A           7.0   \n",
       "5644        -        -        -        -  FGC0150S6852A           7.0   \n",
       "5645        -        -        -        -  FGC0L5019811A           7.0   \n",
       "5646        -        -        -        -  FGC0150S6872A           7.0   \n",
       "5647    KHAKI        -        -        -  FGC0H9027811A           7.0   \n",
       "\n",
       "      Reviews  Size  comfort  durability /quality/performance(quantification)  \\\n",
       "5643      3.0   3.0      3.0                                              2.0   \n",
       "5644     29.0   3.0      3.0                                              2.0   \n",
       "5645     41.0   3.0      3.0                                              2.0   \n",
       "5646     25.0   3.0      3.0                                              2.0   \n",
       "5647      7.0   3.0      3.0                                              2.0   \n",
       "\n",
       "      Star Rating Category  \n",
       "5643          4.3      Men  \n",
       "5644          4.9      Men  \n",
       "5645          4.9      Men  \n",
       "5646          5.0      Men  \n",
       "5647          4.5    Women  "
      ]
     },
     "execution_count": 72,
     "metadata": {},
     "output_type": "execute_result"
    }
   ],
   "source": [
    "df.tail()"
   ]
  },
  {
   "cell_type": "markdown",
   "id": "33dc29a8",
   "metadata": {},
   "source": [
    "As 'Unnamed: 0' column is irrelevant so lets drop it. "
   ]
  },
  {
   "cell_type": "code",
   "execution_count": 73,
   "id": "aafa0b68",
   "metadata": {},
   "outputs": [
    {
     "ename": "KeyError",
     "evalue": "\"['Unnamed: 0'] not found in axis\"",
     "output_type": "error",
     "traceback": [
      "\u001b[1;31m---------------------------------------------------------------------------\u001b[0m",
      "\u001b[1;31mKeyError\u001b[0m                                  Traceback (most recent call last)",
      "\u001b[1;32m~\\AppData\\Local\\Temp\\ipykernel_3524\\1072963027.py\u001b[0m in \u001b[0;36m<module>\u001b[1;34m\u001b[0m\n\u001b[1;32m----> 1\u001b[1;33m \u001b[0mdf\u001b[0m\u001b[1;33m=\u001b[0m\u001b[0mdf\u001b[0m\u001b[1;33m.\u001b[0m\u001b[0mdrop\u001b[0m\u001b[1;33m(\u001b[0m\u001b[1;33m[\u001b[0m\u001b[1;34m'Unnamed: 0'\u001b[0m\u001b[1;33m]\u001b[0m\u001b[1;33m,\u001b[0m\u001b[0maxis\u001b[0m\u001b[1;33m=\u001b[0m\u001b[1;36m1\u001b[0m\u001b[1;33m)\u001b[0m\u001b[1;33m\u001b[0m\u001b[1;33m\u001b[0m\u001b[0m\n\u001b[0m",
      "\u001b[1;32m~\\anaconda3\\lib\\site-packages\\pandas\\util\\_decorators.py\u001b[0m in \u001b[0;36mwrapper\u001b[1;34m(*args, **kwargs)\u001b[0m\n\u001b[0;32m    309\u001b[0m                     \u001b[0mstacklevel\u001b[0m\u001b[1;33m=\u001b[0m\u001b[0mstacklevel\u001b[0m\u001b[1;33m,\u001b[0m\u001b[1;33m\u001b[0m\u001b[1;33m\u001b[0m\u001b[0m\n\u001b[0;32m    310\u001b[0m                 )\n\u001b[1;32m--> 311\u001b[1;33m             \u001b[1;32mreturn\u001b[0m \u001b[0mfunc\u001b[0m\u001b[1;33m(\u001b[0m\u001b[1;33m*\u001b[0m\u001b[0margs\u001b[0m\u001b[1;33m,\u001b[0m \u001b[1;33m**\u001b[0m\u001b[0mkwargs\u001b[0m\u001b[1;33m)\u001b[0m\u001b[1;33m\u001b[0m\u001b[1;33m\u001b[0m\u001b[0m\n\u001b[0m\u001b[0;32m    312\u001b[0m \u001b[1;33m\u001b[0m\u001b[0m\n\u001b[0;32m    313\u001b[0m         \u001b[1;32mreturn\u001b[0m \u001b[0mwrapper\u001b[0m\u001b[1;33m\u001b[0m\u001b[1;33m\u001b[0m\u001b[0m\n",
      "\u001b[1;32m~\\anaconda3\\lib\\site-packages\\pandas\\core\\frame.py\u001b[0m in \u001b[0;36mdrop\u001b[1;34m(self, labels, axis, index, columns, level, inplace, errors)\u001b[0m\n\u001b[0;32m   4955\u001b[0m                 \u001b[0mweight\u001b[0m  \u001b[1;36m1.0\u001b[0m     \u001b[1;36m0.8\u001b[0m\u001b[1;33m\u001b[0m\u001b[1;33m\u001b[0m\u001b[0m\n\u001b[0;32m   4956\u001b[0m         \"\"\"\n\u001b[1;32m-> 4957\u001b[1;33m         return super().drop(\n\u001b[0m\u001b[0;32m   4958\u001b[0m             \u001b[0mlabels\u001b[0m\u001b[1;33m=\u001b[0m\u001b[0mlabels\u001b[0m\u001b[1;33m,\u001b[0m\u001b[1;33m\u001b[0m\u001b[1;33m\u001b[0m\u001b[0m\n\u001b[0;32m   4959\u001b[0m             \u001b[0maxis\u001b[0m\u001b[1;33m=\u001b[0m\u001b[0maxis\u001b[0m\u001b[1;33m,\u001b[0m\u001b[1;33m\u001b[0m\u001b[1;33m\u001b[0m\u001b[0m\n",
      "\u001b[1;32m~\\anaconda3\\lib\\site-packages\\pandas\\core\\generic.py\u001b[0m in \u001b[0;36mdrop\u001b[1;34m(self, labels, axis, index, columns, level, inplace, errors)\u001b[0m\n\u001b[0;32m   4265\u001b[0m         \u001b[1;32mfor\u001b[0m \u001b[0maxis\u001b[0m\u001b[1;33m,\u001b[0m \u001b[0mlabels\u001b[0m \u001b[1;32min\u001b[0m \u001b[0maxes\u001b[0m\u001b[1;33m.\u001b[0m\u001b[0mitems\u001b[0m\u001b[1;33m(\u001b[0m\u001b[1;33m)\u001b[0m\u001b[1;33m:\u001b[0m\u001b[1;33m\u001b[0m\u001b[1;33m\u001b[0m\u001b[0m\n\u001b[0;32m   4266\u001b[0m             \u001b[1;32mif\u001b[0m \u001b[0mlabels\u001b[0m \u001b[1;32mis\u001b[0m \u001b[1;32mnot\u001b[0m \u001b[1;32mNone\u001b[0m\u001b[1;33m:\u001b[0m\u001b[1;33m\u001b[0m\u001b[1;33m\u001b[0m\u001b[0m\n\u001b[1;32m-> 4267\u001b[1;33m                 \u001b[0mobj\u001b[0m \u001b[1;33m=\u001b[0m \u001b[0mobj\u001b[0m\u001b[1;33m.\u001b[0m\u001b[0m_drop_axis\u001b[0m\u001b[1;33m(\u001b[0m\u001b[0mlabels\u001b[0m\u001b[1;33m,\u001b[0m \u001b[0maxis\u001b[0m\u001b[1;33m,\u001b[0m \u001b[0mlevel\u001b[0m\u001b[1;33m=\u001b[0m\u001b[0mlevel\u001b[0m\u001b[1;33m,\u001b[0m \u001b[0merrors\u001b[0m\u001b[1;33m=\u001b[0m\u001b[0merrors\u001b[0m\u001b[1;33m)\u001b[0m\u001b[1;33m\u001b[0m\u001b[1;33m\u001b[0m\u001b[0m\n\u001b[0m\u001b[0;32m   4268\u001b[0m \u001b[1;33m\u001b[0m\u001b[0m\n\u001b[0;32m   4269\u001b[0m         \u001b[1;32mif\u001b[0m \u001b[0minplace\u001b[0m\u001b[1;33m:\u001b[0m\u001b[1;33m\u001b[0m\u001b[1;33m\u001b[0m\u001b[0m\n",
      "\u001b[1;32m~\\anaconda3\\lib\\site-packages\\pandas\\core\\generic.py\u001b[0m in \u001b[0;36m_drop_axis\u001b[1;34m(self, labels, axis, level, errors, consolidate, only_slice)\u001b[0m\n\u001b[0;32m   4309\u001b[0m                 \u001b[0mnew_axis\u001b[0m \u001b[1;33m=\u001b[0m \u001b[0maxis\u001b[0m\u001b[1;33m.\u001b[0m\u001b[0mdrop\u001b[0m\u001b[1;33m(\u001b[0m\u001b[0mlabels\u001b[0m\u001b[1;33m,\u001b[0m \u001b[0mlevel\u001b[0m\u001b[1;33m=\u001b[0m\u001b[0mlevel\u001b[0m\u001b[1;33m,\u001b[0m \u001b[0merrors\u001b[0m\u001b[1;33m=\u001b[0m\u001b[0merrors\u001b[0m\u001b[1;33m)\u001b[0m\u001b[1;33m\u001b[0m\u001b[1;33m\u001b[0m\u001b[0m\n\u001b[0;32m   4310\u001b[0m             \u001b[1;32melse\u001b[0m\u001b[1;33m:\u001b[0m\u001b[1;33m\u001b[0m\u001b[1;33m\u001b[0m\u001b[0m\n\u001b[1;32m-> 4311\u001b[1;33m                 \u001b[0mnew_axis\u001b[0m \u001b[1;33m=\u001b[0m \u001b[0maxis\u001b[0m\u001b[1;33m.\u001b[0m\u001b[0mdrop\u001b[0m\u001b[1;33m(\u001b[0m\u001b[0mlabels\u001b[0m\u001b[1;33m,\u001b[0m \u001b[0merrors\u001b[0m\u001b[1;33m=\u001b[0m\u001b[0merrors\u001b[0m\u001b[1;33m)\u001b[0m\u001b[1;33m\u001b[0m\u001b[1;33m\u001b[0m\u001b[0m\n\u001b[0m\u001b[0;32m   4312\u001b[0m             \u001b[0mindexer\u001b[0m \u001b[1;33m=\u001b[0m \u001b[0maxis\u001b[0m\u001b[1;33m.\u001b[0m\u001b[0mget_indexer\u001b[0m\u001b[1;33m(\u001b[0m\u001b[0mnew_axis\u001b[0m\u001b[1;33m)\u001b[0m\u001b[1;33m\u001b[0m\u001b[1;33m\u001b[0m\u001b[0m\n\u001b[0;32m   4313\u001b[0m \u001b[1;33m\u001b[0m\u001b[0m\n",
      "\u001b[1;32m~\\anaconda3\\lib\\site-packages\\pandas\\core\\indexes\\base.py\u001b[0m in \u001b[0;36mdrop\u001b[1;34m(self, labels, errors)\u001b[0m\n\u001b[0;32m   6659\u001b[0m         \u001b[1;32mif\u001b[0m \u001b[0mmask\u001b[0m\u001b[1;33m.\u001b[0m\u001b[0many\u001b[0m\u001b[1;33m(\u001b[0m\u001b[1;33m)\u001b[0m\u001b[1;33m:\u001b[0m\u001b[1;33m\u001b[0m\u001b[1;33m\u001b[0m\u001b[0m\n\u001b[0;32m   6660\u001b[0m             \u001b[1;32mif\u001b[0m \u001b[0merrors\u001b[0m \u001b[1;33m!=\u001b[0m \u001b[1;34m\"ignore\"\u001b[0m\u001b[1;33m:\u001b[0m\u001b[1;33m\u001b[0m\u001b[1;33m\u001b[0m\u001b[0m\n\u001b[1;32m-> 6661\u001b[1;33m                 \u001b[1;32mraise\u001b[0m \u001b[0mKeyError\u001b[0m\u001b[1;33m(\u001b[0m\u001b[1;34mf\"{list(labels[mask])} not found in axis\"\u001b[0m\u001b[1;33m)\u001b[0m\u001b[1;33m\u001b[0m\u001b[1;33m\u001b[0m\u001b[0m\n\u001b[0m\u001b[0;32m   6662\u001b[0m             \u001b[0mindexer\u001b[0m \u001b[1;33m=\u001b[0m \u001b[0mindexer\u001b[0m\u001b[1;33m[\u001b[0m\u001b[1;33m~\u001b[0m\u001b[0mmask\u001b[0m\u001b[1;33m]\u001b[0m\u001b[1;33m\u001b[0m\u001b[1;33m\u001b[0m\u001b[0m\n\u001b[0;32m   6663\u001b[0m         \u001b[1;32mreturn\u001b[0m \u001b[0mself\u001b[0m\u001b[1;33m.\u001b[0m\u001b[0mdelete\u001b[0m\u001b[1;33m(\u001b[0m\u001b[0mindexer\u001b[0m\u001b[1;33m)\u001b[0m\u001b[1;33m\u001b[0m\u001b[1;33m\u001b[0m\u001b[0m\n",
      "\u001b[1;31mKeyError\u001b[0m: \"['Unnamed: 0'] not found in axis\""
     ]
    }
   ],
   "source": [
    "df=df.drop(['Unnamed: 0'],axis=1)"
   ]
  },
  {
   "cell_type": "markdown",
   "id": "9866ce7d",
   "metadata": {},
   "source": [
    "#### checking rows and columns of data set\n"
   ]
  },
  {
   "cell_type": "code",
   "execution_count": 74,
   "id": "c5375d09",
   "metadata": {},
   "outputs": [
    {
     "data": {
      "text/plain": [
       "(5648, 16)"
      ]
     },
     "execution_count": 74,
     "metadata": {},
     "output_type": "execute_result"
    }
   ],
   "source": [
    "df.shape"
   ]
  },
  {
   "cell_type": "markdown",
   "id": "f1c410b9",
   "metadata": {},
   "source": [
    "The given data set has 5648 rows and 17 columns of which 2 are target variable(Price, Star Rating) and other 15 are independent variable."
   ]
  },
  {
   "cell_type": "markdown",
   "id": "30335153",
   "metadata": {},
   "source": [
    "#### Checking name of all columns"
   ]
  },
  {
   "cell_type": "code",
   "execution_count": 75,
   "id": "870be1ff",
   "metadata": {
    "scrolled": true
   },
   "outputs": [
    {
     "data": {
      "text/plain": [
       "Index(['Name', 'No. of colors', 'Price', 'Colour 1', 'Colour 2', 'Colour 3',\n",
       "       'Colour 4', 'Colour 5', 'Product Code', 'No. of sizes', 'Reviews',\n",
       "       'Size', 'comfort', 'durability /quality/performance(quantification)',\n",
       "       'Star Rating', 'Category'],\n",
       "      dtype='object')"
      ]
     },
     "execution_count": 75,
     "metadata": {},
     "output_type": "execute_result"
    }
   ],
   "source": [
    "df.columns"
   ]
  },
  {
   "cell_type": "markdown",
   "id": "e18d3b39",
   "metadata": {},
   "source": [
    "Th list denotes the name of different columns."
   ]
  },
  {
   "cell_type": "markdown",
   "id": "95c9f001",
   "metadata": {},
   "source": [
    "#### Getting info "
   ]
  },
  {
   "cell_type": "code",
   "execution_count": 76,
   "id": "67fe6c56",
   "metadata": {},
   "outputs": [
    {
     "name": "stdout",
     "output_type": "stream",
     "text": [
      "<class 'pandas.core.frame.DataFrame'>\n",
      "RangeIndex: 5648 entries, 0 to 5647\n",
      "Data columns (total 16 columns):\n",
      " #   Column                                           Non-Null Count  Dtype  \n",
      "---  ------                                           --------------  -----  \n",
      " 0   Name                                             5648 non-null   object \n",
      " 1   No. of colors                                    4918 non-null   float64\n",
      " 2   Price                                            5644 non-null   float64\n",
      " 3   Colour 1                                         5648 non-null   object \n",
      " 4   Colour 2                                         5648 non-null   object \n",
      " 5   Colour 3                                         5648 non-null   object \n",
      " 6   Colour 4                                         5648 non-null   object \n",
      " 7   Colour 5                                         5648 non-null   object \n",
      " 8   Product Code                                     5648 non-null   object \n",
      " 9   No. of sizes                                     2928 non-null   float64\n",
      " 10  Reviews                                          3534 non-null   float64\n",
      " 11  Size                                             3515 non-null   float64\n",
      " 12  comfort                                          3515 non-null   float64\n",
      " 13  durability /quality/performance(quantification)  3372 non-null   float64\n",
      " 14  Star Rating                                      2964 non-null   float64\n",
      " 15  Category                                         5648 non-null   object \n",
      "dtypes: float64(8), object(8)\n",
      "memory usage: 706.1+ KB\n"
     ]
    }
   ],
   "source": [
    "df.info()"
   ]
  },
  {
   "cell_type": "markdown",
   "id": "d0b1c05a",
   "metadata": {},
   "source": [
    "We can see as all non-null value counts are not equal so there are null value present in some columns. Also we can see there are 13 columns with object datatype and 6 columns with float datatype"
   ]
  },
  {
   "cell_type": "code",
   "execution_count": 77,
   "id": "3958fbd5",
   "metadata": {},
   "outputs": [
    {
     "data": {
      "text/html": [
       "<div>\n",
       "<style scoped>\n",
       "    .dataframe tbody tr th:only-of-type {\n",
       "        vertical-align: middle;\n",
       "    }\n",
       "\n",
       "    .dataframe tbody tr th {\n",
       "        vertical-align: top;\n",
       "    }\n",
       "\n",
       "    .dataframe thead th {\n",
       "        text-align: right;\n",
       "    }\n",
       "</style>\n",
       "<table border=\"1\" class=\"dataframe\">\n",
       "  <thead>\n",
       "    <tr style=\"text-align: right;\">\n",
       "      <th></th>\n",
       "      <th>No. of colors</th>\n",
       "      <th>Price</th>\n",
       "      <th>No. of sizes</th>\n",
       "      <th>Reviews</th>\n",
       "      <th>Size</th>\n",
       "      <th>comfort</th>\n",
       "      <th>durability /quality/performance(quantification)</th>\n",
       "      <th>Star Rating</th>\n",
       "    </tr>\n",
       "  </thead>\n",
       "  <tbody>\n",
       "    <tr>\n",
       "      <th>count</th>\n",
       "      <td>4918.000000</td>\n",
       "      <td>5644.000000</td>\n",
       "      <td>2928.000000</td>\n",
       "      <td>3534.000000</td>\n",
       "      <td>3515.000000</td>\n",
       "      <td>3515.000000</td>\n",
       "      <td>3372.000000</td>\n",
       "      <td>2964.000000</td>\n",
       "    </tr>\n",
       "    <tr>\n",
       "      <th>mean</th>\n",
       "      <td>2.912769</td>\n",
       "      <td>7947.935578</td>\n",
       "      <td>5.999317</td>\n",
       "      <td>406.814092</td>\n",
       "      <td>2.473969</td>\n",
       "      <td>2.473969</td>\n",
       "      <td>2.425267</td>\n",
       "      <td>4.514406</td>\n",
       "    </tr>\n",
       "    <tr>\n",
       "      <th>std</th>\n",
       "      <td>1.924948</td>\n",
       "      <td>6224.301593</td>\n",
       "      <td>3.902379</td>\n",
       "      <td>1535.682575</td>\n",
       "      <td>0.581044</td>\n",
       "      <td>0.581044</td>\n",
       "      <td>0.568157</td>\n",
       "      <td>0.456000</td>\n",
       "    </tr>\n",
       "    <tr>\n",
       "      <th>min</th>\n",
       "      <td>1.000000</td>\n",
       "      <td>37.500000</td>\n",
       "      <td>0.000000</td>\n",
       "      <td>1.000000</td>\n",
       "      <td>1.000000</td>\n",
       "      <td>1.000000</td>\n",
       "      <td>1.000000</td>\n",
       "      <td>1.000000</td>\n",
       "    </tr>\n",
       "    <tr>\n",
       "      <th>25%</th>\n",
       "      <td>2.000000</td>\n",
       "      <td>3799.000000</td>\n",
       "      <td>3.000000</td>\n",
       "      <td>8.000000</td>\n",
       "      <td>2.000000</td>\n",
       "      <td>2.000000</td>\n",
       "      <td>2.000000</td>\n",
       "      <td>4.400000</td>\n",
       "    </tr>\n",
       "    <tr>\n",
       "      <th>50%</th>\n",
       "      <td>3.000000</td>\n",
       "      <td>5999.000000</td>\n",
       "      <td>6.000000</td>\n",
       "      <td>38.000000</td>\n",
       "      <td>3.000000</td>\n",
       "      <td>3.000000</td>\n",
       "      <td>2.000000</td>\n",
       "      <td>4.600000</td>\n",
       "    </tr>\n",
       "    <tr>\n",
       "      <th>75%</th>\n",
       "      <td>3.000000</td>\n",
       "      <td>10999.000000</td>\n",
       "      <td>7.000000</td>\n",
       "      <td>179.750000</td>\n",
       "      <td>3.000000</td>\n",
       "      <td>3.000000</td>\n",
       "      <td>3.000000</td>\n",
       "      <td>4.800000</td>\n",
       "    </tr>\n",
       "    <tr>\n",
       "      <th>max</th>\n",
       "      <td>16.000000</td>\n",
       "      <td>69999.000000</td>\n",
       "      <td>26.000000</td>\n",
       "      <td>19793.000000</td>\n",
       "      <td>3.000000</td>\n",
       "      <td>3.000000</td>\n",
       "      <td>3.000000</td>\n",
       "      <td>5.000000</td>\n",
       "    </tr>\n",
       "  </tbody>\n",
       "</table>\n",
       "</div>"
      ],
      "text/plain": [
       "       No. of colors         Price  No. of sizes       Reviews         Size  \\\n",
       "count    4918.000000   5644.000000   2928.000000   3534.000000  3515.000000   \n",
       "mean        2.912769   7947.935578      5.999317    406.814092     2.473969   \n",
       "std         1.924948   6224.301593      3.902379   1535.682575     0.581044   \n",
       "min         1.000000     37.500000      0.000000      1.000000     1.000000   \n",
       "25%         2.000000   3799.000000      3.000000      8.000000     2.000000   \n",
       "50%         3.000000   5999.000000      6.000000     38.000000     3.000000   \n",
       "75%         3.000000  10999.000000      7.000000    179.750000     3.000000   \n",
       "max        16.000000  69999.000000     26.000000  19793.000000     3.000000   \n",
       "\n",
       "           comfort  durability /quality/performance(quantification)  \\\n",
       "count  3515.000000                                      3372.000000   \n",
       "mean      2.473969                                         2.425267   \n",
       "std       0.581044                                         0.568157   \n",
       "min       1.000000                                         1.000000   \n",
       "25%       2.000000                                         2.000000   \n",
       "50%       3.000000                                         2.000000   \n",
       "75%       3.000000                                         3.000000   \n",
       "max       3.000000                                         3.000000   \n",
       "\n",
       "       Star Rating  \n",
       "count  2964.000000  \n",
       "mean      4.514406  \n",
       "std       0.456000  \n",
       "min       1.000000  \n",
       "25%       4.400000  \n",
       "50%       4.600000  \n",
       "75%       4.800000  \n",
       "max       5.000000  "
      ]
     },
     "execution_count": 77,
     "metadata": {},
     "output_type": "execute_result"
    }
   ],
   "source": [
    "df.describe()"
   ]
  },
  {
   "cell_type": "markdown",
   "id": "57fd56c0",
   "metadata": {},
   "source": [
    "#### Checking null values"
   ]
  },
  {
   "cell_type": "code",
   "execution_count": 78,
   "id": "6dfa8754",
   "metadata": {
    "scrolled": true
   },
   "outputs": [
    {
     "data": {
      "text/plain": [
       "Name                                                  0\n",
       "No. of colors                                       730\n",
       "Price                                                 4\n",
       "Colour 1                                              0\n",
       "Colour 2                                              0\n",
       "Colour 3                                              0\n",
       "Colour 4                                              0\n",
       "Colour 5                                              0\n",
       "Product Code                                          0\n",
       "No. of sizes                                       2720\n",
       "Reviews                                            2114\n",
       "Size                                               2133\n",
       "comfort                                            2133\n",
       "durability /quality/performance(quantification)    2276\n",
       "Star Rating                                        2684\n",
       "Category                                              0\n",
       "dtype: int64"
      ]
     },
     "execution_count": 78,
     "metadata": {},
     "output_type": "execute_result"
    }
   ],
   "source": [
    "# to check null values\n",
    "df.isnull().sum()"
   ]
  },
  {
   "cell_type": "markdown",
   "id": "055bc79d",
   "metadata": {},
   "source": [
    "We can see there are null values present in data set so lets find percentage of null values"
   ]
  },
  {
   "cell_type": "markdown",
   "id": "29ebfada",
   "metadata": {},
   "source": [
    "#### Checking for the unique values"
   ]
  },
  {
   "cell_type": "code",
   "execution_count": 79,
   "id": "3d0e4095",
   "metadata": {},
   "outputs": [
    {
     "data": {
      "text/plain": [
       "Name                                               2226\n",
       "No. of colors                                        15\n",
       "Price                                               417\n",
       "Colour 1                                           1254\n",
       "Colour 2                                           1564\n",
       "Colour 3                                            949\n",
       "Colour 4                                            453\n",
       "Colour 5                                            277\n",
       "Product Code                                       3832\n",
       "No. of sizes                                         25\n",
       "Reviews                                             358\n",
       "Size                                                  3\n",
       "comfort                                               3\n",
       "durability /quality/performance(quantification)       3\n",
       "Star Rating                                          27\n",
       "Category                                              2\n",
       "dtype: int64"
      ]
     },
     "execution_count": 79,
     "metadata": {},
     "output_type": "execute_result"
    }
   ],
   "source": [
    "df.nunique()"
   ]
  },
  {
   "cell_type": "markdown",
   "id": "0665cf99",
   "metadata": {},
   "source": [
    "We can see that category has 2 unique values(Men,Women) and size, comfort and durability /quality/performance(quantification) has 4 unique values."
   ]
  },
  {
   "cell_type": "markdown",
   "id": "a8e326a8",
   "metadata": {},
   "source": [
    "#### Converting 'Comfort' object datatype to float"
   ]
  },
  {
   "cell_type": "code",
   "execution_count": 80,
   "id": "fd983b02",
   "metadata": {},
   "outputs": [
    {
     "data": {
      "text/plain": [
       "array([ 1.,  2.,  3., nan])"
      ]
     },
     "execution_count": 80,
     "metadata": {},
     "output_type": "execute_result"
    }
   ],
   "source": [
    "df['comfort'].unique()"
   ]
  },
  {
   "cell_type": "code",
   "execution_count": 81,
   "id": "2cdbd287",
   "metadata": {},
   "outputs": [],
   "source": [
    "df['comfort'] = df['comfort'].replace(['Small', 'Large', 'Perfect'],['1','2','3'])"
   ]
  },
  {
   "cell_type": "code",
   "execution_count": 82,
   "id": "b45de429",
   "metadata": {},
   "outputs": [],
   "source": [
    "df['comfort'] = df['comfort'].astype(str).astype(float)"
   ]
  },
  {
   "cell_type": "markdown",
   "id": "3b42e706",
   "metadata": {},
   "source": [
    "#### Converting 'Size' object datatype to float"
   ]
  },
  {
   "cell_type": "code",
   "execution_count": 83,
   "id": "2a74dbec",
   "metadata": {},
   "outputs": [
    {
     "data": {
      "text/plain": [
       "array([ 1.,  2.,  3., nan])"
      ]
     },
     "execution_count": 83,
     "metadata": {},
     "output_type": "execute_result"
    }
   ],
   "source": [
    "df['Size'].unique()"
   ]
  },
  {
   "cell_type": "code",
   "execution_count": 84,
   "id": "7774b1f3",
   "metadata": {},
   "outputs": [],
   "source": [
    "df['Size'] = df['Size'].replace(['Small', 'Large', 'Perfect'],['1','2','3'])"
   ]
  },
  {
   "cell_type": "code",
   "execution_count": 85,
   "id": "b2759cc7",
   "metadata": {},
   "outputs": [],
   "source": [
    "df['Size'] = df['Size'].astype(str).astype(float)"
   ]
  },
  {
   "cell_type": "markdown",
   "id": "f13da95d",
   "metadata": {},
   "source": [
    "#### Converting 'durability /quality/performance(quantification)' object datatype to float"
   ]
  },
  {
   "cell_type": "code",
   "execution_count": 86,
   "id": "cc6b6544",
   "metadata": {},
   "outputs": [
    {
     "data": {
      "text/plain": [
       "array([nan,  3.,  1.,  2.])"
      ]
     },
     "execution_count": 86,
     "metadata": {},
     "output_type": "execute_result"
    }
   ],
   "source": [
    "df['durability /quality/performance(quantification)'].unique()"
   ]
  },
  {
   "cell_type": "code",
   "execution_count": 87,
   "id": "4296bf43",
   "metadata": {},
   "outputs": [],
   "source": [
    "df['durability /quality/performance(quantification)'] = df['durability /quality/performance(quantification)'].replace(['Poor', 'Average', 'Perfect'],['1','2','3'])"
   ]
  },
  {
   "cell_type": "code",
   "execution_count": 88,
   "id": "d075abc0",
   "metadata": {},
   "outputs": [],
   "source": [
    "df['durability /quality/performance(quantification)'] = df['durability /quality/performance(quantification)'].astype(str).astype(float)"
   ]
  },
  {
   "cell_type": "markdown",
   "id": "2d14512d",
   "metadata": {},
   "source": [
    "#### Converting 'Category' object datatype to float"
   ]
  },
  {
   "cell_type": "code",
   "execution_count": 89,
   "id": "97108c65",
   "metadata": {},
   "outputs": [
    {
     "data": {
      "text/plain": [
       "array(['Women', 'Men'], dtype=object)"
      ]
     },
     "execution_count": 89,
     "metadata": {},
     "output_type": "execute_result"
    }
   ],
   "source": [
    "df['Category'].unique()"
   ]
  },
  {
   "cell_type": "code",
   "execution_count": 90,
   "id": "39a248da",
   "metadata": {},
   "outputs": [],
   "source": [
    "df['Category'] = df['Category'].replace(['Men', 'Women'],['1','2'])"
   ]
  },
  {
   "cell_type": "code",
   "execution_count": 91,
   "id": "b34048e3",
   "metadata": {},
   "outputs": [],
   "source": [
    "df['Category'] = df['Category'].astype(str).astype(float)"
   ]
  },
  {
   "cell_type": "code",
   "execution_count": null,
   "id": "84a9cc5c",
   "metadata": {},
   "outputs": [],
   "source": []
  },
  {
   "cell_type": "markdown",
   "id": "3ac24ab6",
   "metadata": {},
   "source": [
    "## Data Visualization"
   ]
  },
  {
   "cell_type": "code",
   "execution_count": 92,
   "id": "6e544dee",
   "metadata": {},
   "outputs": [
    {
     "data": {
      "image/png": "[encoded data removed]",
      "text/plain": [
       "<Figure size 800x600 with 1 Axes>"
      ]
     },
     "metadata": {},
     "output_type": "display_data"
    }
   ],
   "source": [
    "cat = df['Category'].value_counts()\n",
    "\n",
    "plt.figure(figsize=(8, 6))\n",
    "plt.bar(cat.index, cat,)\n",
    "plt.title('Count Plot of Category')\n",
    "plt.xlabel('Category')\n",
    "plt.ylabel('Count')\n",
    "plt.show()\n"
   ]
  },
  {
   "cell_type": "markdown",
   "id": "528dc270",
   "metadata": {},
   "source": [
    "We can see the shoes are mostly of Women as compared to men"
   ]
  },
  {
   "cell_type": "code",
   "execution_count": 93,
   "id": "c767d957",
   "metadata": {},
   "outputs": [
    {
     "data": {
      "image/png": "[encoded data removed]",
      "text/plain": [
       "<Figure size 800x600 with 1 Axes>"
      ]
     },
     "metadata": {},
     "output_type": "display_data"
    }
   ],
   "source": [
    "com = df['comfort'].value_counts()\n",
    "\n",
    "plt.figure(figsize=(8, 6))\n",
    "plt.bar(com.index, com,)\n",
    "plt.title('Count Plot of Comfort')\n",
    "plt.xlabel('Comfort')\n",
    "plt.ylabel('Count')\n",
    "plt.show()\n"
   ]
  },
  {
   "cell_type": "markdown",
   "id": "9aaac154",
   "metadata": {},
   "source": [
    "We can see that mostly shoes are comfortable "
   ]
  },
  {
   "cell_type": "code",
   "execution_count": 94,
   "id": "3101b181",
   "metadata": {},
   "outputs": [
    {
     "data": {
      "image/png": "[encoded data removed]",
      "text/plain": [
       "<Figure size 800x600 with 1 Axes>"
      ]
     },
     "metadata": {},
     "output_type": "display_data"
    }
   ],
   "source": [
    "siz = df['Size'].value_counts()\n",
    "\n",
    "plt.figure(figsize=(8, 6))\n",
    "plt.bar(siz.index, siz,)\n",
    "plt.title('Count Plot of Size')\n",
    "plt.xlabel('Size')\n",
    "plt.ylabel('Count')\n",
    "plt.show()\n"
   ]
  },
  {
   "cell_type": "markdown",
   "id": "fa05ddea",
   "metadata": {},
   "source": [
    "We can see that mostly shoes are perfect in size "
   ]
  },
  {
   "cell_type": "code",
   "execution_count": 95,
   "id": "4f537057",
   "metadata": {},
   "outputs": [
    {
     "data": {
      "image/png": "[encoded data removed]",
      "text/plain": [
       "<Figure size 800x600 with 1 Axes>"
      ]
     },
     "metadata": {},
     "output_type": "display_data"
    }
   ],
   "source": [
    "qua = df['durability /quality/performance(quantification)'].value_counts()\n",
    "\n",
    "plt.figure(figsize=(8, 6))\n",
    "plt.bar(qua.index, qua,)\n",
    "plt.title('Count Plot of Quantification')\n",
    "plt.xlabel('Size')\n",
    "plt.ylabel('Quantification')\n",
    "plt.show()\n"
   ]
  },
  {
   "cell_type": "markdown",
   "id": "f69b4aab",
   "metadata": {},
   "source": [
    "We can see that mostly shoes are perfect and average in terms of quality "
   ]
  },
  {
   "cell_type": "code",
   "execution_count": 96,
   "id": "63b3da98",
   "metadata": {},
   "outputs": [
    {
     "data": {
      "image/png": "[encoded data removed]",
      "text/plain": [
       "<Figure size 1400x2700 with 9 Axes>"
      ]
     },
     "metadata": {},
     "output_type": "display_data"
    }
   ],
   "source": [
    "sns.set_style(\"darkgrid\")\n",
    "\n",
    "numerical_columns = df.select_dtypes(include=[\"int64\", \"float64\"]).columns\n",
    "\n",
    "plt.figure(figsize=(14, len(numerical_columns) * 3))\n",
    "for idx, feature in enumerate(numerical_columns, 1):\n",
    "\tplt.subplot(len(numerical_columns), 2, idx)\n",
    "\tsns.histplot(df[feature], kde=True)\n",
    "\tplt.title(f\"{feature} | Skewness: {round(df[feature].skew(), 2)}\")\n",
    "\n",
    "plt.tight_layout()\n",
    "plt.show()\n"
   ]
  },
  {
   "cell_type": "markdown",
   "id": "9e8a9eda",
   "metadata": {},
   "source": [
    "We can see that 'No. of colors','Reviews' and 'No.of sizes' are positively skewed. whereas others are negatively skewed"
   ]
  },
  {
   "cell_type": "code",
   "execution_count": 97,
   "id": "fabd5b3e",
   "metadata": {},
   "outputs": [
    {
     "data": {
      "text/plain": [
       "<AxesSubplot:xlabel='Category', ylabel='Star Rating'>"
      ]
     },
     "execution_count": 97,
     "metadata": {},
     "output_type": "execute_result"
    },
    {
     "data": {
      "image/png": "[encoded data removed]",
      "text/plain": [
       "<Figure size 640x480 with 1 Axes>"
      ]
     },
     "metadata": {},
     "output_type": "display_data"
    }
   ],
   "source": [
    "sns.boxplot(x=df['Category'], y=df['Star Rating'], data=df)\n"
   ]
  },
  {
   "cell_type": "markdown",
   "id": "518db979",
   "metadata": {},
   "source": [
    "We can see outliers are present which can be seen"
   ]
  },
  {
   "cell_type": "markdown",
   "id": "0c5c059e",
   "metadata": {},
   "source": [
    "#### To find corelation"
   ]
  },
  {
   "cell_type": "code",
   "execution_count": 98,
   "id": "24acd15e",
   "metadata": {},
   "outputs": [
    {
     "data": {
      "image/png": "[encoded data removed]",
      "text/plain": [
       "<Figure size 1500x1000 with 2 Axes>"
      ]
     },
     "metadata": {},
     "output_type": "display_data"
    }
   ],
   "source": [
    "plt.figure(figsize=(15, 10))\n",
    "\n",
    "sns.heatmap(df.corr(), annot=True, fmt='.2f', cmap='Pastel2', linewidths=2)\n",
    "\n",
    "plt.title('Correlation Heatmap')\n",
    "plt.show()\n"
   ]
  },
  {
   "cell_type": "markdown",
   "id": "9c75abcb",
   "metadata": {},
   "source": [
    "We can see corelation of all variables from this plot."
   ]
  },
  {
   "cell_type": "markdown",
   "id": "23acac2c",
   "metadata": {},
   "source": [
    "# Machine Learning Algorithm"
   ]
  },
  {
   "cell_type": "markdown",
   "id": "5d34e784",
   "metadata": {},
   "source": [
    "As 'Name', 'Colour 1', 'Colour 2', 'Colour 3', 'Colour 4', 'Colour 5', 'Product Code' are irrelevenat for predicting proce and star rating so lets drop them.\n"
   ]
  },
  {
   "cell_type": "code",
   "execution_count": 99,
   "id": "408d52b0",
   "metadata": {},
   "outputs": [],
   "source": [
    "df1=df.drop(['Name', 'Colour 1', 'Colour 2', 'Colour 3', 'Colour 4', 'Colour 5', 'Product Code'],axis=1)"
   ]
  },
  {
   "cell_type": "code",
   "execution_count": 112,
   "id": "62e5f42e",
   "metadata": {},
   "outputs": [],
   "source": [
    "df1 = df1.replace(['NaN'], 0)"
   ]
  },
  {
   "cell_type": "code",
   "execution_count": 100,
   "id": "ed604649",
   "metadata": {
    "scrolled": true
   },
   "outputs": [
    {
     "data": {
      "text/html": [
       "<div>\n",
       "<style scoped>\n",
       "    .dataframe tbody tr th:only-of-type {\n",
       "        vertical-align: middle;\n",
       "    }\n",
       "\n",
       "    .dataframe tbody tr th {\n",
       "        vertical-align: top;\n",
       "    }\n",
       "\n",
       "    .dataframe thead th {\n",
       "        text-align: right;\n",
       "    }\n",
       "</style>\n",
       "<table border=\"1\" class=\"dataframe\">\n",
       "  <thead>\n",
       "    <tr style=\"text-align: right;\">\n",
       "      <th></th>\n",
       "      <th>No. of colors</th>\n",
       "      <th>Price</th>\n",
       "      <th>No. of sizes</th>\n",
       "      <th>Reviews</th>\n",
       "      <th>Size</th>\n",
       "      <th>comfort</th>\n",
       "      <th>durability /quality/performance(quantification)</th>\n",
       "      <th>Star Rating</th>\n",
       "      <th>Category</th>\n",
       "    </tr>\n",
       "  </thead>\n",
       "  <tbody>\n",
       "    <tr>\n",
       "      <th>0</th>\n",
       "      <td>4.0</td>\n",
       "      <td>5995.0</td>\n",
       "      <td>7.0</td>\n",
       "      <td>NaN</td>\n",
       "      <td>1.0</td>\n",
       "      <td>1.0</td>\n",
       "      <td>NaN</td>\n",
       "      <td>NaN</td>\n",
       "      <td>2.0</td>\n",
       "    </tr>\n",
       "    <tr>\n",
       "      <th>1</th>\n",
       "      <td>3.0</td>\n",
       "      <td>5495.0</td>\n",
       "      <td>7.0</td>\n",
       "      <td>NaN</td>\n",
       "      <td>1.0</td>\n",
       "      <td>1.0</td>\n",
       "      <td>NaN</td>\n",
       "      <td>NaN</td>\n",
       "      <td>2.0</td>\n",
       "    </tr>\n",
       "    <tr>\n",
       "      <th>2</th>\n",
       "      <td>3.0</td>\n",
       "      <td>5495.0</td>\n",
       "      <td>7.0</td>\n",
       "      <td>NaN</td>\n",
       "      <td>1.0</td>\n",
       "      <td>1.0</td>\n",
       "      <td>NaN</td>\n",
       "      <td>NaN</td>\n",
       "      <td>2.0</td>\n",
       "    </tr>\n",
       "    <tr>\n",
       "      <th>3</th>\n",
       "      <td>2.0</td>\n",
       "      <td>6995.0</td>\n",
       "      <td>9.0</td>\n",
       "      <td>NaN</td>\n",
       "      <td>1.0</td>\n",
       "      <td>1.0</td>\n",
       "      <td>NaN</td>\n",
       "      <td>NaN</td>\n",
       "      <td>2.0</td>\n",
       "    </tr>\n",
       "    <tr>\n",
       "      <th>4</th>\n",
       "      <td>3.0</td>\n",
       "      <td>5495.0</td>\n",
       "      <td>7.0</td>\n",
       "      <td>NaN</td>\n",
       "      <td>1.0</td>\n",
       "      <td>1.0</td>\n",
       "      <td>NaN</td>\n",
       "      <td>NaN</td>\n",
       "      <td>2.0</td>\n",
       "    </tr>\n",
       "    <tr>\n",
       "      <th>...</th>\n",
       "      <td>...</td>\n",
       "      <td>...</td>\n",
       "      <td>...</td>\n",
       "      <td>...</td>\n",
       "      <td>...</td>\n",
       "      <td>...</td>\n",
       "      <td>...</td>\n",
       "      <td>...</td>\n",
       "      <td>...</td>\n",
       "    </tr>\n",
       "    <tr>\n",
       "      <th>5643</th>\n",
       "      <td>2.0</td>\n",
       "      <td>37.5</td>\n",
       "      <td>7.0</td>\n",
       "      <td>3.0</td>\n",
       "      <td>3.0</td>\n",
       "      <td>3.0</td>\n",
       "      <td>2.0</td>\n",
       "      <td>4.3</td>\n",
       "      <td>1.0</td>\n",
       "    </tr>\n",
       "    <tr>\n",
       "      <th>5644</th>\n",
       "      <td>3.0</td>\n",
       "      <td>84.0</td>\n",
       "      <td>7.0</td>\n",
       "      <td>29.0</td>\n",
       "      <td>3.0</td>\n",
       "      <td>3.0</td>\n",
       "      <td>2.0</td>\n",
       "      <td>4.9</td>\n",
       "      <td>1.0</td>\n",
       "    </tr>\n",
       "    <tr>\n",
       "      <th>5645</th>\n",
       "      <td>2.0</td>\n",
       "      <td>98.0</td>\n",
       "      <td>7.0</td>\n",
       "      <td>41.0</td>\n",
       "      <td>3.0</td>\n",
       "      <td>3.0</td>\n",
       "      <td>2.0</td>\n",
       "      <td>4.9</td>\n",
       "      <td>1.0</td>\n",
       "    </tr>\n",
       "    <tr>\n",
       "      <th>5646</th>\n",
       "      <td>2.0</td>\n",
       "      <td>60.0</td>\n",
       "      <td>7.0</td>\n",
       "      <td>25.0</td>\n",
       "      <td>3.0</td>\n",
       "      <td>3.0</td>\n",
       "      <td>2.0</td>\n",
       "      <td>5.0</td>\n",
       "      <td>1.0</td>\n",
       "    </tr>\n",
       "    <tr>\n",
       "      <th>5647</th>\n",
       "      <td>3.0</td>\n",
       "      <td>97.5</td>\n",
       "      <td>7.0</td>\n",
       "      <td>7.0</td>\n",
       "      <td>3.0</td>\n",
       "      <td>3.0</td>\n",
       "      <td>2.0</td>\n",
       "      <td>4.5</td>\n",
       "      <td>2.0</td>\n",
       "    </tr>\n",
       "  </tbody>\n",
       "</table>\n",
       "<p>5648 rows × 9 columns</p>\n",
       "</div>"
      ],
      "text/plain": [
       "      No. of colors   Price  No. of sizes  Reviews  Size  comfort  \\\n",
       "0               4.0  5995.0           7.0      NaN   1.0      1.0   \n",
       "1               3.0  5495.0           7.0      NaN   1.0      1.0   \n",
       "2               3.0  5495.0           7.0      NaN   1.0      1.0   \n",
       "3               2.0  6995.0           9.0      NaN   1.0      1.0   \n",
       "4               3.0  5495.0           7.0      NaN   1.0      1.0   \n",
       "...             ...     ...           ...      ...   ...      ...   \n",
       "5643            2.0    37.5           7.0      3.0   3.0      3.0   \n",
       "5644            3.0    84.0           7.0     29.0   3.0      3.0   \n",
       "5645            2.0    98.0           7.0     41.0   3.0      3.0   \n",
       "5646            2.0    60.0           7.0     25.0   3.0      3.0   \n",
       "5647            3.0    97.5           7.0      7.0   3.0      3.0   \n",
       "\n",
       "      durability /quality/performance(quantification)  Star Rating  Category  \n",
       "0                                                 NaN          NaN       2.0  \n",
       "1                                                 NaN          NaN       2.0  \n",
       "2                                                 NaN          NaN       2.0  \n",
       "3                                                 NaN          NaN       2.0  \n",
       "4                                                 NaN          NaN       2.0  \n",
       "...                                               ...          ...       ...  \n",
       "5643                                              2.0          4.3       1.0  \n",
       "5644                                              2.0          4.9       1.0  \n",
       "5645                                              2.0          4.9       1.0  \n",
       "5646                                              2.0          5.0       1.0  \n",
       "5647                                              2.0          4.5       2.0  \n",
       "\n",
       "[5648 rows x 9 columns]"
      ]
     },
     "execution_count": 100,
     "metadata": {},
     "output_type": "execute_result"
    }
   ],
   "source": [
    "df1"
   ]
  },
  {
   "cell_type": "markdown",
   "id": "daca071d",
   "metadata": {},
   "source": [
    "####  Normalizing data"
   ]
  },
  {
   "cell_type": "code",
   "execution_count": 101,
   "id": "177f746e",
   "metadata": {},
   "outputs": [],
   "source": [
    "from sklearn.preprocessing import StandardScaler\n",
    "scaler = StandardScaler()\n",
    "scaled_data = scaler.fit_transform(df1)"
   ]
  },
  {
   "cell_type": "markdown",
   "id": "65bd4719",
   "metadata": {},
   "source": [
    "#### Seperate target and independent variable"
   ]
  },
  {
   "cell_type": "code",
   "execution_count": null,
   "id": "be2d55b1",
   "metadata": {},
   "outputs": [],
   "source": [
    "x=df1.drop('Price',axis=1)\n",
    "\n",
    "y=df1['Price']"
   ]
  },
  {
   "cell_type": "markdown",
   "id": "df3406e8",
   "metadata": {},
   "source": [
    "### Label encoding"
   ]
  },
  {
   "cell_type": "code",
   "execution_count": 119,
   "id": "f11ddcdd",
   "metadata": {},
   "outputs": [
    {
     "name": "stdout",
     "output_type": "stream",
     "text": [
      "[269 256 256 ...  25  10  24]\n"
     ]
    }
   ],
   "source": [
    "from sklearn import preprocessing\n",
    "from sklearn import utils\n",
    "\n",
    "lab = preprocessing.LabelEncoder()\n",
    "Y = lab.fit_transform(y)\n",
    "\n",
    "print(Y)\n",
    "\n"
   ]
  },
  {
   "cell_type": "markdown",
   "id": "94e2b5d6",
   "metadata": {},
   "source": [
    "### train_test_split "
   ]
  },
  {
   "cell_type": "code",
   "execution_count": 124,
   "id": "6faa6c55",
   "metadata": {},
   "outputs": [
    {
     "data": {
      "text/plain": [
       "((3388, 8), (2260, 8), (3388,), (2260,))"
      ]
     },
     "execution_count": 124,
     "metadata": {},
     "output_type": "execute_result"
    }
   ],
   "source": [
    "\n",
    "\n",
    "\n",
    "from sklearn.model_selection import train_test_split \n",
    "x.shape,y.shape \n",
    "X_train, X_test, Y_train, Y_test = train_test_split(x, Y,test_size=0.4, random_state=1) \n",
    "X_train.shape, X_test.shape, Y_train.shape, Y_test.shape\n",
    "\n"
   ]
  },
  {
   "cell_type": "code",
   "execution_count": null,
   "id": "93642728",
   "metadata": {},
   "outputs": [],
   "source": []
  },
  {
   "cell_type": "code",
   "execution_count": 125,
   "id": "22fee942",
   "metadata": {},
   "outputs": [
    {
     "data": {
      "text/html": [
       "<div>\n",
       "<style scoped>\n",
       "    .dataframe tbody tr th:only-of-type {\n",
       "        vertical-align: middle;\n",
       "    }\n",
       "\n",
       "    .dataframe tbody tr th {\n",
       "        vertical-align: top;\n",
       "    }\n",
       "\n",
       "    .dataframe thead th {\n",
       "        text-align: right;\n",
       "    }\n",
       "</style>\n",
       "<table border=\"1\" class=\"dataframe\">\n",
       "  <thead>\n",
       "    <tr style=\"text-align: right;\">\n",
       "      <th></th>\n",
       "      <th>No. of colors</th>\n",
       "      <th>No. of sizes</th>\n",
       "      <th>Reviews</th>\n",
       "      <th>Size</th>\n",
       "      <th>comfort</th>\n",
       "      <th>durability /quality/performance(quantification)</th>\n",
       "      <th>Star Rating</th>\n",
       "      <th>Category</th>\n",
       "    </tr>\n",
       "  </thead>\n",
       "  <tbody>\n",
       "    <tr>\n",
       "      <th>0</th>\n",
       "      <td>4.0</td>\n",
       "      <td>7.0</td>\n",
       "      <td>0.0</td>\n",
       "      <td>1.0</td>\n",
       "      <td>1.0</td>\n",
       "      <td>0.0</td>\n",
       "      <td>0.0</td>\n",
       "      <td>2.0</td>\n",
       "    </tr>\n",
       "    <tr>\n",
       "      <th>1</th>\n",
       "      <td>3.0</td>\n",
       "      <td>7.0</td>\n",
       "      <td>0.0</td>\n",
       "      <td>1.0</td>\n",
       "      <td>1.0</td>\n",
       "      <td>0.0</td>\n",
       "      <td>0.0</td>\n",
       "      <td>2.0</td>\n",
       "    </tr>\n",
       "    <tr>\n",
       "      <th>2</th>\n",
       "      <td>3.0</td>\n",
       "      <td>7.0</td>\n",
       "      <td>0.0</td>\n",
       "      <td>1.0</td>\n",
       "      <td>1.0</td>\n",
       "      <td>0.0</td>\n",
       "      <td>0.0</td>\n",
       "      <td>2.0</td>\n",
       "    </tr>\n",
       "    <tr>\n",
       "      <th>3</th>\n",
       "      <td>2.0</td>\n",
       "      <td>9.0</td>\n",
       "      <td>0.0</td>\n",
       "      <td>1.0</td>\n",
       "      <td>1.0</td>\n",
       "      <td>0.0</td>\n",
       "      <td>0.0</td>\n",
       "      <td>2.0</td>\n",
       "    </tr>\n",
       "    <tr>\n",
       "      <th>4</th>\n",
       "      <td>3.0</td>\n",
       "      <td>7.0</td>\n",
       "      <td>0.0</td>\n",
       "      <td>1.0</td>\n",
       "      <td>1.0</td>\n",
       "      <td>0.0</td>\n",
       "      <td>0.0</td>\n",
       "      <td>2.0</td>\n",
       "    </tr>\n",
       "    <tr>\n",
       "      <th>...</th>\n",
       "      <td>...</td>\n",
       "      <td>...</td>\n",
       "      <td>...</td>\n",
       "      <td>...</td>\n",
       "      <td>...</td>\n",
       "      <td>...</td>\n",
       "      <td>...</td>\n",
       "      <td>...</td>\n",
       "    </tr>\n",
       "    <tr>\n",
       "      <th>5643</th>\n",
       "      <td>2.0</td>\n",
       "      <td>7.0</td>\n",
       "      <td>3.0</td>\n",
       "      <td>3.0</td>\n",
       "      <td>3.0</td>\n",
       "      <td>2.0</td>\n",
       "      <td>4.3</td>\n",
       "      <td>1.0</td>\n",
       "    </tr>\n",
       "    <tr>\n",
       "      <th>5644</th>\n",
       "      <td>3.0</td>\n",
       "      <td>7.0</td>\n",
       "      <td>29.0</td>\n",
       "      <td>3.0</td>\n",
       "      <td>3.0</td>\n",
       "      <td>2.0</td>\n",
       "      <td>4.9</td>\n",
       "      <td>1.0</td>\n",
       "    </tr>\n",
       "    <tr>\n",
       "      <th>5645</th>\n",
       "      <td>2.0</td>\n",
       "      <td>7.0</td>\n",
       "      <td>41.0</td>\n",
       "      <td>3.0</td>\n",
       "      <td>3.0</td>\n",
       "      <td>2.0</td>\n",
       "      <td>4.9</td>\n",
       "      <td>1.0</td>\n",
       "    </tr>\n",
       "    <tr>\n",
       "      <th>5646</th>\n",
       "      <td>2.0</td>\n",
       "      <td>7.0</td>\n",
       "      <td>25.0</td>\n",
       "      <td>3.0</td>\n",
       "      <td>3.0</td>\n",
       "      <td>2.0</td>\n",
       "      <td>5.0</td>\n",
       "      <td>1.0</td>\n",
       "    </tr>\n",
       "    <tr>\n",
       "      <th>5647</th>\n",
       "      <td>3.0</td>\n",
       "      <td>7.0</td>\n",
       "      <td>7.0</td>\n",
       "      <td>3.0</td>\n",
       "      <td>3.0</td>\n",
       "      <td>2.0</td>\n",
       "      <td>4.5</td>\n",
       "      <td>2.0</td>\n",
       "    </tr>\n",
       "  </tbody>\n",
       "</table>\n",
       "<p>5648 rows × 8 columns</p>\n",
       "</div>"
      ],
      "text/plain": [
       "      No. of colors  No. of sizes  Reviews  Size  comfort  \\\n",
       "0               4.0           7.0      0.0   1.0      1.0   \n",
       "1               3.0           7.0      0.0   1.0      1.0   \n",
       "2               3.0           7.0      0.0   1.0      1.0   \n",
       "3               2.0           9.0      0.0   1.0      1.0   \n",
       "4               3.0           7.0      0.0   1.0      1.0   \n",
       "...             ...           ...      ...   ...      ...   \n",
       "5643            2.0           7.0      3.0   3.0      3.0   \n",
       "5644            3.0           7.0     29.0   3.0      3.0   \n",
       "5645            2.0           7.0     41.0   3.0      3.0   \n",
       "5646            2.0           7.0     25.0   3.0      3.0   \n",
       "5647            3.0           7.0      7.0   3.0      3.0   \n",
       "\n",
       "      durability /quality/performance(quantification)  Star Rating  Category  \n",
       "0                                                 0.0          0.0       2.0  \n",
       "1                                                 0.0          0.0       2.0  \n",
       "2                                                 0.0          0.0       2.0  \n",
       "3                                                 0.0          0.0       2.0  \n",
       "4                                                 0.0          0.0       2.0  \n",
       "...                                               ...          ...       ...  \n",
       "5643                                              2.0          4.3       1.0  \n",
       "5644                                              2.0          4.9       1.0  \n",
       "5645                                              2.0          4.9       1.0  \n",
       "5646                                              2.0          5.0       1.0  \n",
       "5647                                              2.0          4.5       2.0  \n",
       "\n",
       "[5648 rows x 8 columns]"
      ]
     },
     "execution_count": 125,
     "metadata": {},
     "output_type": "execute_result"
    }
   ],
   "source": [
    "x"
   ]
  },
  {
   "cell_type": "markdown",
   "id": "aa6c9752",
   "metadata": {},
   "source": [
    "# Choosing Machine Learning Algorithm"
   ]
  },
  {
   "cell_type": "markdown",
   "id": "c8934e20",
   "metadata": {},
   "source": [
    "### 1. Logistic Regression"
   ]
  },
  {
   "cell_type": "code",
   "execution_count": 126,
   "id": "f15d77ec",
   "metadata": {},
   "outputs": [
    {
     "name": "stdout",
     "output_type": "stream",
     "text": [
      "Accuracy:  0.04043683589138135\n"
     ]
    }
   ],
   "source": [
    "from sklearn.linear_model import LogisticRegression\n",
    "lr= LogisticRegression()\n",
    "lr.fit(X_train,Y_train)\n",
    "from sklearn.metrics import accuracy_score\n",
    "Y_pred= lr.predict(X_train) \n",
    "print(\"Accuracy: \",accuracy_score(Y_pred,Y_train))\n"
   ]
  },
  {
   "cell_type": "markdown",
   "id": "3504e6f9",
   "metadata": {},
   "source": [
    "### 2.  Linear SVM"
   ]
  },
  {
   "cell_type": "code",
   "execution_count": 127,
   "id": "af60d036",
   "metadata": {},
   "outputs": [
    {
     "data": {
      "text/plain": [
       "SGDClassifier(alpha=0.001, max_iter=15, random_state=5, tol=None)"
      ]
     },
     "execution_count": 127,
     "metadata": {},
     "output_type": "execute_result"
    }
   ],
   "source": [
    "from sklearn.linear_model import SGDClassifier\n",
    "model = SGDClassifier(alpha=0.001, random_state=5, max_iter=15, tol=None)\n",
    "model.fit(X_train, Y_train)"
   ]
  },
  {
   "cell_type": "code",
   "execution_count": 128,
   "id": "08cc7c62",
   "metadata": {},
   "outputs": [
    {
     "name": "stdout",
     "output_type": "stream",
     "text": [
      "Accuracy:  0.011806375442739079\n"
     ]
    }
   ],
   "source": [
    "from sklearn.metrics import accuracy_score\n",
    "Y_pred = model.predict(X_train)\n",
    "print(\"Accuracy: \",accuracy_score(Y_pred,Y_train))"
   ]
  },
  {
   "cell_type": "markdown",
   "id": "6e9d6db0",
   "metadata": {},
   "source": [
    "### 3. Random Forest"
   ]
  },
  {
   "cell_type": "code",
   "execution_count": 129,
   "id": "d86b7908",
   "metadata": {},
   "outputs": [
    {
     "data": {
      "text/plain": [
       "RandomForestClassifier(max_depth=4, random_state=10)"
      ]
     },
     "execution_count": 129,
     "metadata": {},
     "output_type": "execute_result"
    }
   ],
   "source": [
    "from sklearn.ensemble import RandomForestClassifier\n",
    "model = RandomForestClassifier(max_depth=4, random_state = 10)\n",
    "model.fit(X_train, Y_train)"
   ]
  },
  {
   "cell_type": "code",
   "execution_count": 130,
   "id": "bb6db91a",
   "metadata": {},
   "outputs": [
    {
     "data": {
      "text/plain": [
       "0.061504424778761065"
      ]
     },
     "execution_count": 130,
     "metadata": {},
     "output_type": "execute_result"
    }
   ],
   "source": [
    "from sklearn.metrics import accuracy_score\n",
    "pred_cv = model.predict(X_test)\n",
    "accuracy_score(Y_test,pred_cv)"
   ]
  },
  {
   "cell_type": "code",
   "execution_count": 131,
   "id": "366296f8",
   "metadata": {},
   "outputs": [
    {
     "name": "stdout",
     "output_type": "stream",
     "text": [
      "Accuracy:  0.09681227863046045\n"
     ]
    }
   ],
   "source": [
    "pred_train = model.predict(X_train)\n",
    "print(\"Accuracy: \",accuracy_score(Y_train,pred_train))"
   ]
  },
  {
   "cell_type": "markdown",
   "id": "e3ad06ae",
   "metadata": {},
   "source": [
    "Random Forest Classifier is the best Algoritjm as its accuraccy is more."
   ]
  },
  {
   "cell_type": "code",
   "execution_count": null,
   "id": "ee82f1e8",
   "metadata": {},
   "outputs": [],
   "source": []
  }
 ],
 "metadata": {
  "kernelspec": {
   "display_name": "Python 3 (ipykernel)",
   "language": "python",
   "name": "python3"
  },
  "language_info": {
   "codemirror_mode": {
    "name": "ipython",
    "version": 3
   },
   "file_extension": ".py",
   "mimetype": "text/x-python",
   "name": "python",
   "nbconvert_exporter": "python",
   "pygments_lexer": "ipython3",
   "version": "3.9.13"
  }
 },
 "nbformat": 4,
 "nbformat_minor": 5
}
